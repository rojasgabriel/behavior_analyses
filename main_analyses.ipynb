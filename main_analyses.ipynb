{
 "cells": [
  {
   "cell_type": "markdown",
   "metadata": {},
   "source": [
    "# Performance across learning"
   ]
  },
  {
   "cell_type": "code",
   "execution_count": 1,
   "metadata": {},
   "outputs": [],
   "source": [
    "import pandas as pd\n",
    "import matplotlib.pyplot as plt\n",
    "import numpy as np\n",
    "from utils import *\n",
    "\n",
    "#temp workaround since it gets removed from the path whenever the kernel is restarted\n",
    "import sys\n",
    "sys.path.insert(0, '/Users/gabriel/lib/')\n",
    "import chiCa\n",
    "\n",
    "%matplotlib widget"
   ]
  },
  {
   "cell_type": "markdown",
   "metadata": {},
   "source": [
    "### Define some WIP functions"
   ]
  },
  {
   "cell_type": "code",
   "execution_count": 2,
   "metadata": {},
   "outputs": [],
   "source": [
    "def get_session_dates(file_names):\n",
    "    session_dates = []\n",
    "    for file in file_names:\n",
    "        split_path = file.split('/')\n",
    "        session_dates.append(split_path[5]) #with the churchland data folder structure, this corresponds to the date\n",
    "\n",
    "    return session_dates\n",
    "\n",
    "def get_session_averages(file_names, min_stims=5):\n",
    "    session_performance_averages = []\n",
    "    for file in file_names: \n",
    "        session_data = pd.read_hdf(file)\n",
    "        stim_rates = np.unique(np.array([len(timestamps) for timestamps in session_data.stimulus_event_timestamps]))\n",
    "        if len(stim_rates)>min_stims:\n",
    "            performance = np.array(session_data.outcome_record, dtype=float)\n",
    "            performance[performance == -1] = np.nan #setting early withdrawal trials as nans\n",
    "            performance[performance == 2] = np.nan #setting no response trials as nans\n",
    "            session_performance_averages.append(np.nanmean(performance))\n",
    "\n",
    "    return session_performance_averages\n",
    "\n",
    "def get_filtered_session_averages_and_dates(file_names, min_stims=5):\n",
    "    filtered_dates = []\n",
    "    filtered_session_averages = []\n",
    "    stims = []\n",
    "    for file in file_names:\n",
    "        session_data = pd.read_hdf(file)\n",
    "        stim_rates = np.array([len(timestamps) for timestamps in session_data.stimulus_event_timestamps])\n",
    "        unique_stims = list(np.unique(stim_rates))\n",
    "        valid_trials = np.logical_or(stim_rates == 4, stim_rates == 20)\n",
    "        if len(unique_stims)>min_stims:\n",
    "            #allocate performance\n",
    "            performance = np.array(session_data.outcome_record, dtype=float)\n",
    "            performance[performance == -1] = np.nan #setting early withdrawal trials as nans\n",
    "            performance[performance == 2] = np.nan #setting no response trials as nans\n",
    "            filtered_session_averages.append(np.nanmean(performance[valid_trials]))\n",
    "\n",
    "            #allocate date\n",
    "            split_path = file.split('/')\n",
    "            filtered_dates.append(split_path[5])\n",
    "\n",
    "            #allocate unique_stims\n",
    "            stims.append(unique_stims)\n",
    "\n",
    "    return filtered_dates, filtered_session_averages, stims\n",
    "\n",
    "def get_file_names(animal_name, data_type, file_extension, file_keyword=None):\n",
    "    '''Tool to select specified files of a data type over all sessions for a given animal.\n",
    "    This relies on the hierarchical Churchland lab data folder structure with:\n",
    "    animal_name -> session_datetime -> data_type\n",
    "    \n",
    "    Adapted from Lukas Oesch's `chipmunk_analysis_tools.py`.\n",
    "       \n",
    "    \n",
    "    Parameters\n",
    "    ----------\n",
    "    animal_name: str, the name of the animal whose sessions are to be selected.\n",
    "    data_type: str, the directory with the specific data type, for example chipumnk, caiman, etc.\n",
    "    file_extension: str, file extension specifier, for example *.mat\n",
    "    file_keyword: str, a pattern that should be detected inside the file name to\n",
    "                  distinguish the desired files from other files with the same extension.\n",
    "    \n",
    "    Returns\n",
    "    -------\n",
    "    file_names: list, list of file names selected\n",
    "    \n",
    "    Examples\n",
    "    --------\n",
    "    file_names = get_file_names('GRB001', 'chipmunk', '*.h5')\n",
    "    '''\n",
    "    import os\n",
    "    import glob\n",
    "    \n",
    "    home_dir = os.path.expanduser(\"~\")\n",
    "    session_dirs = glob.glob(f\"{home_dir}/data/{animal_name}/*/\")\n",
    "    \n",
    "    file_names = []\n",
    "    for session_dir in session_dirs:\n",
    "        data_type_dir = os.path.join(session_dir, data_type)\n",
    "        file_paths = glob.glob(os.path.join(data_type_dir, file_extension))\n",
    "        for file_path in file_paths:\n",
    "            if file_keyword is None or file_keyword in file_path:\n",
    "                file_names.append(file_path)\n",
    "    \n",
    "    file_names.sort()\n",
    "    \n",
    "    return file_names\n",
    "\n",
    "def count_stimulus_timestamps(row):\n",
    "    data = pd.read_hdf(row['path'])\n",
    "    stimulus_event_timestamps = data['stimulus_event_timestamps']\n",
    "    trial_lengths = [len(trial) for trial in stimulus_event_timestamps]\n",
    "    return trial_lengths\n",
    "\n",
    "def get_response_side(row):\n",
    "    data = pd.read_hdf(row['path'])\n",
    "    response_side = np.array(data['response_side'])\n",
    "    return response_side"
   ]
  },
  {
   "cell_type": "markdown",
   "metadata": {},
   "source": [
    "### Identify good sessions"
   ]
  },
  {
   "cell_type": "code",
   "execution_count": 18,
   "metadata": {},
   "outputs": [],
   "source": [
    "#Get performance averages for each session\n",
    "GRB001_paths = get_file_names('GRB001', 'chipmunk', '*.h5')\n",
    "GRB002_paths = get_file_names('GRB002', 'chipmunk', '*.h5')\n",
    "GRB003_paths = get_file_names('GRB003', 'chipmunk', '*.h5')\n",
    "GRB004_paths = get_file_names('GRB004', 'chipmunk', '*.h5')\n",
    "\n",
    "paths_all_animals = {'GRB001':GRB001_paths,\n",
    "                     'GRB002':GRB002_paths,\n",
    "                     'GRB003':GRB003_paths,\n",
    "                     'GRB004':GRB004_paths}\n",
    "\n",
    "group_performance_data = {}\n",
    "\n",
    "for animalID, paths in paths_all_animals.items():\n",
    "    # session_dates = get_session_dates(paths)\n",
    "    # session_averages = get_session_averages_easy_trials_only(paths)\n",
    "    session_dates, session_averages, unique_stims = get_filtered_session_averages_and_dates(paths, min_stims=5)\n",
    "    performance_by_day = pd.DataFrame(data={'date':session_dates,'performance average':session_averages, 'unique stims':unique_stims})\n",
    "    group_performance_data.update({animalID:performance_by_day})\n",
    "\n",
    "#Filter session dates by performance average value and grab the paths to those sessions\n",
    "threshold = 0.5\n",
    "filtered_group_performance_data = {}\n",
    "\n",
    "for animal_id, performance_data in group_performance_data.items():\n",
    "    filtered_performance_data = performance_data[performance_data['performance average'] >= threshold].reset_index(drop=True)\n",
    "    filtered_dates = filtered_performance_data['date'].tolist()\n",
    "    filtered_paths = []\n",
    "    for path in paths_all_animals[animal_id]:\n",
    "        if '/' in path:\n",
    "            split_path = path.split('/')\n",
    "            if split_path[5] in filtered_dates:\n",
    "                filtered_paths.append(path)\n",
    "    filtered_group_performance_data[animal_id] = {'performance data': filtered_performance_data, 'filtered paths': filtered_paths}\n",
    "\n",
    "#Store the filtered performance data for each animal\n",
    "filtered_data_list = []\n",
    "filtered_path_list = []\n",
    "\n",
    "for animal_id, data in filtered_group_performance_data.items():\n",
    "    filtered_data_list.append(data['performance data'])\n",
    "    # filtered_path_list.append(data['filtered paths'])\n",
    "\n",
    "# concatenate the filtered performance data for all animals into a single dataframe with animal IDs as keys\n",
    "concatenated_data = pd.concat(filtered_data_list, keys=filtered_group_performance_data.keys())\n",
    "concatenated_data = concatenated_data.reset_index().rename(columns={'level_0': 'animal_id', 'level_1': 'row_index'})\n",
    "\n",
    "# # concatenate the filtered data paths for all animals into a single dataframe with animal IDs as keys\n",
    "# concatenated_paths = pd.concat(filtered_path_list, keys=filtered_group_performance_data.keys())\n",
    "# concatenated_paths = concatenated_data.reset_index().rename(columns={'level_0': 'animal_id', 'level_1': 'row_index'})\n",
    "\n",
    "# print the updated concatenated data\n",
    "# print(concatenated_data)"
   ]
  },
  {
   "cell_type": "markdown",
   "metadata": {},
   "source": [
    "## Set up dataframe to store data for GLM-HMM"
   ]
  },
  {
   "cell_type": "code",
   "execution_count": 19,
   "metadata": {},
   "outputs": [],
   "source": [
    "# assuming filtered_group_performance_data is your dictionary\n",
    "filtered_paths = []\n",
    "for animal_id, animal_data in filtered_group_performance_data.items():\n",
    "    for filtered_path in animal_data['filtered paths']:\n",
    "        filtered_paths.append([animal_id, filtered_path])\n",
    "\n",
    "df_filtered_paths = pd.DataFrame(filtered_paths, columns=['animalID', 'path'])\n",
    "\n",
    "# df_filtered_paths"
   ]
  },
  {
   "cell_type": "code",
   "execution_count": 20,
   "metadata": {},
   "outputs": [],
   "source": [
    "#add relevant columns to dataframe\n",
    "df_filtered_paths['data'] = df_filtered_paths['path'].apply(pd.read_hdf)\n",
    "df_filtered_paths['trials_per_session'] = df_filtered_paths['data'].apply(len)\n",
    "df_filtered_paths['num_completed_trials'] = df_filtered_paths['data'].apply(lambda x: len(x[x['outcome_record'].isin([-1, 2]) == False]))\n",
    "df_filtered_paths['stimuli_presented'] = df_filtered_paths.apply(count_stimulus_timestamps, axis=1)\n",
    "df_filtered_paths['response_side'] = df_filtered_paths.apply(get_response_side, axis=1)\n",
    "df_filtered_paths['choice'] = df_filtered_paths['response_side'].apply(lambda x: [val for val in x if not pd.isna(val)])\n",
    "all_data = df_filtered_paths"
   ]
  },
  {
   "cell_type": "markdown",
   "metadata": {},
   "source": [
    "## EM GLM-HMM"
   ]
  },
  {
   "cell_type": "code",
   "execution_count": 21,
   "metadata": {},
   "outputs": [],
   "source": [
    "import ssm\n",
    "from ssm.util import find_permutation"
   ]
  },
  {
   "cell_type": "code",
   "execution_count": 22,
   "metadata": {},
   "outputs": [],
   "source": [
    "# Set the parameters of the GLM-HMM\n",
    "num_states = 3        # number of discrete states\n",
    "obs_dim = 1           # number of observed dimensions\n",
    "num_categories = 2    # number of categories for output\n",
    "input_dim = 2         # input dimensions\n",
    "\n",
    "# Make a GLM-HMM\n",
    "glmhmm = ssm.HMM(num_states, obs_dim, input_dim, observations=\"input_driven_obs\", \n",
    "                   observation_kwargs=dict(C=num_categories), transitions=\"standard\")"
   ]
  },
  {
   "cell_type": "markdown",
   "metadata": {},
   "source": [
    "### Creating external input sequences"
   ]
  },
  {
   "cell_type": "code",
   "execution_count": 23,
   "metadata": {},
   "outputs": [],
   "source": [
    "num_sess = len(all_data) # number of example sessions\n",
    "num_trials_per_sess = all_data['num_completed_trials'].tolist() # number of trials in a session\n",
    "stim_vals = [4,6,8,10,12,14,16,18,20]\n",
    "\n",
    "inpts = []\n",
    "for i in range(num_sess):\n",
    "    inpts.append(np.ones((num_trials_per_sess[i], 2), dtype=float))\n",
    "\n",
    "stimuli = all_data['stimuli_presented']\n",
    "for i in range(num_sess):\n",
    "    for j in range(num_trials_per_sess[i]):\n",
    "        inpts[i][j][0] = stimuli[i][j]\n",
    "\n",
    "choice = [np.array(lst).reshape(-1, 1).astype(int) for lst in  all_data['choice']]\n",
    "\n",
    "#seems like it's in the same format as the matrix in the tutorial notebook"
   ]
  },
  {
   "cell_type": "markdown",
   "metadata": {},
   "source": [
    "### Fit glmhmm"
   ]
  },
  {
   "cell_type": "code",
   "execution_count": 24,
   "metadata": {},
   "outputs": [
    {
     "data": {
      "application/vnd.jupyter.widget-view+json": {
       "model_id": "3968b69d821e48049eadae6d465e3fe9",
       "version_major": 2,
       "version_minor": 0
      },
      "text/plain": [
       "  0%|          | 0/200 [00:00<?, ?it/s]"
      ]
     },
     "metadata": {},
     "output_type": "display_data"
    }
   ],
   "source": [
    "N_iters = 200 # maximum number of EM iterations. Fitting with stop earlier if increase in LL is below tolerance specified by tolerance parameter\n",
    "fit_ll = glmhmm.fit(choice, inputs=inpts, method=\"em\", num_iters=N_iters, tolerance=10**-4)"
   ]
  },
  {
   "cell_type": "code",
   "execution_count": 25,
   "metadata": {},
   "outputs": [
    {
     "data": {
      "application/vnd.jupyter.widget-view+json": {
       "model_id": "d3f4b3abd19046e7a3aa45b22e7b46bc",
       "version_major": 2,
       "version_minor": 0
      },
      "image/png": "[encoded data removed]",
      "text/html": [
       "\n",
       "            <div style=\"display: inline-block;\">\n",
       "                <div class=\"jupyter-widgets widget-label\" style=\"text-align: center;\">\n",
       "                    Figure\n",
       "                </div>\n",
       "                <img src='data:image/png;base64,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' width=320.0/>\n",
       "            </div>\n",
       "        "
      ],
      "text/plain": [
       "Canvas(toolbar=Toolbar(toolitems=[('Home', 'Reset original view', 'home', 'home'), ('Back', 'Back to previous …"
      ]
     },
     "metadata": {},
     "output_type": "display_data"
    }
   ],
   "source": [
    "# Plot the log probabilities of the true and fit models. Fit model final LL should be greater \n",
    "# than or equal to true LL.\n",
    "fig = plt.figure(figsize=(4, 3), dpi=80, facecolor='w', edgecolor='k')\n",
    "plt.plot(fit_ll, label=\"EM\")\n",
    "# plt.plot([0, len(fit_ll)], true_ll * np.ones(2), ':k', label=\"True\")\n",
    "plt.legend(loc=\"lower right\")\n",
    "plt.xlabel(\"EM Iteration\")\n",
    "plt.xlim(0, len(fit_ll))\n",
    "plt.ylabel(\"Log Probability\")\n",
    "plt.show()"
   ]
  },
  {
   "cell_type": "markdown",
   "metadata": {},
   "source": [
    "### Recover weights"
   ]
  },
  {
   "cell_type": "code",
   "execution_count": 26,
   "metadata": {},
   "outputs": [
    {
     "data": {
      "text/plain": [
       "Text(0.5, 1.0, 'Weight recovery')"
      ]
     },
     "execution_count": 26,
     "metadata": {},
     "output_type": "execute_result"
    },
    {
     "data": {
      "application/vnd.jupyter.widget-view+json": {
       "model_id": "9ed1e94bef7a4d5db7a581f2f7488274",
       "version_major": 2,
       "version_minor": 0
      },
      "image/png": "[encoded data removed]",
      "text/html": [
       "\n",
       "            <div style=\"display: inline-block;\">\n",
       "                <div class=\"jupyter-widgets widget-label\" style=\"text-align: center;\">\n",
       "                    Figure\n",
       "                </div>\n",
       "                <img src='data:image/png;base64,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' width=320.0/>\n",
       "            </div>\n",
       "        "
      ],
      "text/plain": [
       "Canvas(toolbar=Toolbar(toolitems=[('Home', 'Reset original view', 'home', 'home'), ('Back', 'Back to previous …"
      ]
     },
     "metadata": {},
     "output_type": "display_data"
    }
   ],
   "source": [
    "fig = plt.figure(figsize=(4, 3), dpi=80, facecolor='w', edgecolor='k')\n",
    "cols = ['#ff7f00', '#4daf4a', '#377eb8']\n",
    "recovered_weights = glmhmm.observations.params\n",
    "for k in range(num_states):\n",
    "    if k ==0:\n",
    "        plt.plot(range(input_dim), recovered_weights[k][0], color=cols[k],\n",
    "                     lw=1.5,  label = \"recovered\", linestyle = '--')\n",
    "    else:\n",
    "        plt.plot(range(input_dim), recovered_weights[k][0], color=cols[k],\n",
    "                     lw=1.5,  label = '', linestyle = '--')\n",
    "plt.yticks(fontsize=10)\n",
    "plt.ylabel(\"GLM weight\", fontsize=15)\n",
    "plt.xlabel(\"covariate\", fontsize=15)\n",
    "plt.xticks([0, 1], ['stimulus', 'bias'], fontsize=12, rotation=45)\n",
    "plt.axhline(y=0, color=\"k\", alpha=0.5, ls=\"--\")\n",
    "plt.legend()\n",
    "plt.title(\"Weight recovery\", fontsize=15)"
   ]
  },
  {
   "cell_type": "markdown",
   "metadata": {},
   "source": [
    "### Plot transition matrix"
   ]
  },
  {
   "cell_type": "code",
   "execution_count": 27,
   "metadata": {},
   "outputs": [
    {
     "data": {
      "application/vnd.jupyter.widget-view+json": {
       "model_id": "d2ae28e756784c9286d97024a360ea84",
       "version_major": 2,
       "version_minor": 0
      },
      "image/png": "[encoded data removed]",
      "text/html": [
       "\n",
       "            <div style=\"display: inline-block;\">\n",
       "                <div class=\"jupyter-widgets widget-label\" style=\"text-align: center;\">\n",
       "                    Figure\n",
       "                </div>\n",
       "                <img src='data:image/png;base64,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' width=400.0/>\n",
       "            </div>\n",
       "        "
      ],
      "text/plain": [
       "Canvas(toolbar=Toolbar(toolitems=[('Home', 'Reset original view', 'home', 'home'), ('Back', 'Back to previous …"
      ]
     },
     "metadata": {},
     "output_type": "display_data"
    }
   ],
   "source": [
    "fig = plt.figure(figsize=(5, 2.5), dpi=80, facecolor='w', edgecolor='k')\n",
    "\n",
    "\n",
    "recovered_trans_mat = np.exp(glmhmm.transitions.log_Ps)\n",
    "plt.imshow(recovered_trans_mat, vmin=-0.8, vmax=1, cmap='bone')\n",
    "for i in range(recovered_trans_mat.shape[0]):\n",
    "    for j in range(recovered_trans_mat.shape[1]):\n",
    "        text = plt.text(j, i, str(np.around(recovered_trans_mat[i, j], decimals=2)), ha=\"center\", va=\"center\",\n",
    "                        color=\"k\", fontsize=12)\n",
    "plt.xlim(-0.5, num_states - 0.5)\n",
    "plt.xticks(range(0, num_states), ('1', '2', '3'), fontsize=10)\n",
    "plt.yticks(range(0, num_states), ('1', '2', '3'), fontsize=10)\n",
    "plt.ylim(num_states - 0.5, -0.5)\n",
    "plt.title(\"recovered\", fontsize = 15)\n",
    "plt.subplots_adjust(0, 0, 1, 1)\n"
   ]
  },
  {
   "cell_type": "markdown",
   "metadata": {},
   "source": [
    "### Get posterior probabilities"
   ]
  },
  {
   "cell_type": "code",
   "execution_count": 28,
   "metadata": {},
   "outputs": [],
   "source": [
    "# Get expected states:\n",
    "posterior_probs = [glmhmm.expected_states(data=data, input=inpt)[0]\n",
    "                for data, inpt\n",
    "                in zip(choice, inpts)]"
   ]
  },
  {
   "cell_type": "code",
   "execution_count": 29,
   "metadata": {},
   "outputs": [
    {
     "data": {
      "text/plain": [
       "Text(0, 0.5, 'p(state)')"
      ]
     },
     "execution_count": 29,
     "metadata": {},
     "output_type": "execute_result"
    },
    {
     "data": {
      "application/vnd.jupyter.widget-view+json": {
       "model_id": "d6b1be86b33040e0aee926103034ad72",
       "version_major": 2,
       "version_minor": 0
      },
      "image/png": "[encoded data removed]",
      "text/html": [
       "\n",
       "            <div style=\"display: inline-block;\">\n",
       "                <div class=\"jupyter-widgets widget-label\" style=\"text-align: center;\">\n",
       "                    Figure\n",
       "                </div>\n",
       "                <img src='data:image/png;base64,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' width=400.0/>\n",
       "            </div>\n",
       "        "
      ],
      "text/plain": [
       "Canvas(toolbar=Toolbar(toolitems=[('Home', 'Reset original view', 'home', 'home'), ('Back', 'Back to previous …"
      ]
     },
     "metadata": {},
     "output_type": "display_data"
    }
   ],
   "source": [
    "fig = plt.figure(figsize=(5, 2.5), dpi=80, facecolor='w', edgecolor='k')\n",
    "sess_id = 0 #session id; can choose any index between 0 and num_sess-1\n",
    "for k in range(num_states):\n",
    "    plt.plot(posterior_probs[sess_id][:, k], label=\"State \" + str(k + 1), lw=2,\n",
    "             color=cols[k])\n",
    "plt.ylim((-0.01, 1.01))\n",
    "plt.yticks([0, 0.5, 1], fontsize = 10)\n",
    "plt.xlabel(\"trial #\", fontsize = 15)\n",
    "plt.ylabel(\"p(state)\", fontsize = 15)"
   ]
  },
  {
   "cell_type": "markdown",
   "metadata": {},
   "source": [
    "### Get state occupancies"
   ]
  },
  {
   "cell_type": "code",
   "execution_count": 30,
   "metadata": {},
   "outputs": [],
   "source": [
    "# concatenate posterior probabilities across sessions\n",
    "posterior_probs_concat = np.concatenate(posterior_probs)\n",
    "# get state with maximum posterior probability at particular trial:\n",
    "state_max_posterior = np.argmax(posterior_probs_concat, axis = 1)\n",
    "# now obtain state fractional occupancies:\n",
    "_, state_occupancies = np.unique(state_max_posterior, return_counts=True)\n",
    "state_occupancies = state_occupancies/np.sum(state_occupancies)"
   ]
  },
  {
   "cell_type": "code",
   "execution_count": 31,
   "metadata": {},
   "outputs": [
    {
     "data": {
      "text/plain": [
       "Text(0, 0.5, 'frac. occupancy')"
      ]
     },
     "execution_count": 31,
     "metadata": {},
     "output_type": "execute_result"
    },
    {
     "data": {
      "application/vnd.jupyter.widget-view+json": {
       "model_id": "e0ac4b9cb0644a8d99b5483e284be90c",
       "version_major": 2,
       "version_minor": 0
      },
      "image/png": "[encoded data removed]",
      "text/html": [
       "\n",
       "            <div style=\"display: inline-block;\">\n",
       "                <div class=\"jupyter-widgets widget-label\" style=\"text-align: center;\">\n",
       "                    Figure\n",
       "                </div>\n",
       "                <img src='data:image/png;base64,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' width=400.0/>\n",
       "            </div>\n",
       "        "
      ],
      "text/plain": [
       "Canvas(toolbar=Toolbar(toolitems=[('Home', 'Reset original view', 'home', 'home'), ('Back', 'Back to previous …"
      ]
     },
     "metadata": {},
     "output_type": "display_data"
    }
   ],
   "source": [
    "fig = plt.figure(figsize=(5, 2.5), dpi=80, facecolor='w', edgecolor='k')\n",
    "for z, occ in enumerate(state_occupancies):\n",
    "    plt.bar(z, occ, width = 0.8, color = cols[z])\n",
    "plt.ylim((0, 1))\n",
    "plt.xticks([0, 1, 2], ['1', '2', '3'], fontsize = 10)\n",
    "plt.yticks([0, 0.5, 1], ['0', '0.5', '1'], fontsize=10)\n",
    "plt.xlabel('state', fontsize = 15)\n",
    "plt.ylabel('frac. occupancy', fontsize=15)"
   ]
  },
  {
   "cell_type": "markdown",
   "metadata": {},
   "source": [
    "## MAP GLM-HMM"
   ]
  },
  {
   "cell_type": "code",
   "execution_count": 32,
   "metadata": {},
   "outputs": [],
   "source": [
    "# Instantiate GLM-HMM and set prior hyperparameters\n",
    "prior_sigma = 2\n",
    "prior_alpha = 2\n",
    "map_glmhmm = ssm.HMM(num_states, obs_dim, input_dim, observations=\"input_driven_obs\", \n",
    "             observation_kwargs=dict(C=num_categories,prior_sigma=prior_sigma),\n",
    "             transitions=\"sticky\", transition_kwargs=dict(alpha=prior_alpha,kappa=0))"
   ]
  },
  {
   "cell_type": "code",
   "execution_count": 34,
   "metadata": {},
   "outputs": [
    {
     "data": {
      "application/vnd.jupyter.widget-view+json": {
       "model_id": "f1ef1d3eec104b6f91461911f7ecec74",
       "version_major": 2,
       "version_minor": 0
      },
      "text/plain": [
       "  0%|          | 0/200 [00:00<?, ?it/s]"
      ]
     },
     "metadata": {},
     "output_type": "display_data"
    }
   ],
   "source": [
    "# Fit GLM-HMM with MAP estimation:\n",
    "_ = map_glmhmm.fit(choice, inputs=inpts, method=\"em\", num_iters=N_iters, tolerance=10**-4)"
   ]
  },
  {
   "cell_type": "code",
   "execution_count": 35,
   "metadata": {},
   "outputs": [],
   "source": [
    "# true_likelihood = true_glmhmm.log_likelihood(true_choices, inputs=inpts)\n",
    "mle_final_ll = glmhmm.log_likelihood(choice, inputs=inpts) \n",
    "map_final_ll = map_glmhmm.log_likelihood(choice, inputs=inpts) "
   ]
  },
  {
   "cell_type": "code",
   "execution_count": 40,
   "metadata": {},
   "outputs": [
    {
     "data": {
      "text/plain": [
       "Text(0, 0.5, 'loglikelihood')"
      ]
     },
     "execution_count": 40,
     "metadata": {},
     "output_type": "execute_result"
    },
    {
     "data": {
      "application/vnd.jupyter.widget-view+json": {
       "model_id": "526945bf2b46496cb15fc635579cd53a",
       "version_major": 2,
       "version_minor": 0
      },
      "image/png": "[encoded data removed]",
      "text/html": [
       "\n",
       "            <div style=\"display: inline-block;\">\n",
       "                <div class=\"jupyter-widgets widget-label\" style=\"text-align: center;\">\n",
       "                    Figure\n",
       "                </div>\n",
       "                <img src='data:image/png;base64,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' width=160.0/>\n",
       "            </div>\n",
       "        "
      ],
      "text/plain": [
       "Canvas(toolbar=Toolbar(toolitems=[('Home', 'Reset original view', 'home', 'home'), ('Back', 'Back to previous …"
      ]
     },
     "metadata": {},
     "output_type": "display_data"
    }
   ],
   "source": [
    "# Plot these values\n",
    "fig = plt.figure(figsize=(2, 2.5), dpi=80, facecolor='w', edgecolor='k')\n",
    "loglikelihood_vals = [mle_final_ll, map_final_ll]\n",
    "colors = ['Red', 'Navy']\n",
    "for z, occ in enumerate(loglikelihood_vals):\n",
    "    plt.bar(z, occ, width = 0.8, color = colors[z])\n",
    "plt.ylim((mle_final_ll-10, mle_final_ll+10))\n",
    "plt.xticks([0, 1], ['mle', 'map'], fontsize = 10)\n",
    "plt.xlabel('model', fontsize = 15)\n",
    "plt.ylabel('loglikelihood', fontsize=15)"
   ]
  },
  {
   "cell_type": "markdown",
   "metadata": {},
   "source": [
    "## Cross-validation"
   ]
  },
  {
   "cell_type": "code",
   "execution_count": 41,
   "metadata": {},
   "outputs": [],
   "source": [
    "# Create additional input sequences to be used as held-out test data\n",
    "# num_test_sess = 10\n",
    "# test_inpts = np.ones((num_test_sess, num_trials_per_sess, input_dim)) \n",
    "# test_inpts[:,:,0] = np.random.choice(stim_vals, (num_test_sess, num_trials_per_sess)) \n",
    "# test_inpts = list(test_inpts)\n",
    "\n",
    "#######\n",
    "\n",
    "# num_sess = len(all_data) # number of example sessions\n",
    "# num_trials_per_sess = all_data['num_completed_trials'].tolist() # number of trials in a session\n",
    "# stim_vals = [4,6,8,10,12,14,16,18,20]\n",
    "\n",
    "# inpts = []\n",
    "# for i in range(num_sess):\n",
    "#     inpts.append(np.ones((num_trials_per_sess[i], 2), dtype=float))\n",
    "\n",
    "# stimuli = all_data['stimuli_presented']\n",
    "# for i in range(num_sess):\n",
    "#     for j in range(num_trials_per_sess[i]):\n",
    "#         inpts[i][j][0] = stimuli[i][j]\n",
    "\n",
    "# choice = [np.array(lst).reshape(-1, 1).astype(int) for lst in  all_data['choice']]\n",
    "\n",
    "#######\n",
    "\n",
    "num_test_sess = 10 # number of example sessions\n",
    "num_trials_per_test_sess = all_data['num_completed_trials'][:num_test_sess].tolist() # number of trials in a session\n",
    "stim_vals = [4,6,8,10,12,14,16,18,20]\n",
    "\n",
    "test_inpts = []\n",
    "for i in range(num_test_sess):\n",
    "    test_inpts.append(np.ones((num_trials_per_test_sess[i], 2), dtype=float))\n",
    "\n",
    "test_stimuli = all_data['stimuli_presented'][:num_test_sess]\n",
    "for i in range(num_test_sess):\n",
    "    for j in range(num_trials_per_test_sess[i]):\n",
    "        test_inpts[i][j][0] = stimuli[i][j]\n",
    "\n",
    "test_choice = [np.array(lst).reshape(-1, 1).astype(int) for lst in all_data['choice'][:num_test_sess]]"
   ]
  },
  {
   "cell_type": "code",
   "execution_count": 42,
   "metadata": {},
   "outputs": [],
   "source": [
    "# Compare likelihood of test_choices for model fit with MLE and MAP:\n",
    "mle_test_ll = glmhmm.log_likelihood(test_choice, inputs=test_inpts) \n",
    "map_test_ll = map_glmhmm.log_likelihood(test_choice, inputs=test_inpts) "
   ]
  },
  {
   "cell_type": "code",
   "execution_count": 43,
   "metadata": {},
   "outputs": [
    {
     "data": {
      "text/plain": [
       "Text(0, 0.5, 'loglikelihood')"
      ]
     },
     "execution_count": 43,
     "metadata": {},
     "output_type": "execute_result"
    },
    {
     "data": {
      "application/vnd.jupyter.widget-view+json": {
       "model_id": "cc7a9c290bf34c21a4d899cb2cf0abdd",
       "version_major": 2,
       "version_minor": 0
      },
      "image/png": "[encoded data removed]",
      "text/html": [
       "\n",
       "            <div style=\"display: inline-block;\">\n",
       "                <div class=\"jupyter-widgets widget-label\" style=\"text-align: center;\">\n",
       "                    Figure\n",
       "                </div>\n",
       "                <img src='data:image/png;base64,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' width=160.0/>\n",
       "            </div>\n",
       "        "
      ],
      "text/plain": [
       "Canvas(toolbar=Toolbar(toolitems=[('Home', 'Reset original view', 'home', 'home'), ('Back', 'Back to previous …"
      ]
     },
     "metadata": {},
     "output_type": "display_data"
    }
   ],
   "source": [
    "fig = plt.figure(figsize=(2, 2.5), dpi=80, facecolor='w', edgecolor='k')\n",
    "loglikelihood_vals = [mle_test_ll, map_test_ll]\n",
    "colors = ['Navy', 'Purple']\n",
    "for z, occ in enumerate(loglikelihood_vals):\n",
    "    plt.bar(z, occ, width = 0.8, color = colors[z])\n",
    "plt.ylim((mle_test_ll-2, mle_test_ll+5))\n",
    "plt.xticks([0, 1], ['mle', 'map'], fontsize = 10)\n",
    "plt.xlabel('model', fontsize = 15)\n",
    "plt.ylabel('loglikelihood', fontsize=15)"
   ]
  },
  {
   "cell_type": "code",
   "execution_count": 44,
   "metadata": {},
   "outputs": [
    {
     "data": {
      "text/plain": [
       "Text(0.5, 1.0, 'MAP')"
      ]
     },
     "execution_count": 44,
     "metadata": {},
     "output_type": "execute_result"
    },
    {
     "data": {
      "application/vnd.jupyter.widget-view+json": {
       "model_id": "e7561ea6b4554e599c7e468b23e394f6",
       "version_major": 2,
       "version_minor": 0
      },
      "image/png": "[encoded data removed]",
      "text/html": [
       "\n",
       "            <div style=\"display: inline-block;\">\n",
       "                <div class=\"jupyter-widgets widget-label\" style=\"text-align: center;\">\n",
       "                    Figure\n",
       "                </div>\n",
       "                <img src='data:image/png;base64,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' width=480.0/>\n",
       "            </div>\n",
       "        "
      ],
      "text/plain": [
       "Canvas(toolbar=Toolbar(toolitems=[('Home', 'Reset original view', 'home', 'home'), ('Back', 'Back to previous …"
      ]
     },
     "metadata": {},
     "output_type": "display_data"
    }
   ],
   "source": [
    "fig = plt.figure(figsize=(6, 3), dpi=80, facecolor='w', edgecolor='k')\n",
    "cols = ['#ff7f00', '#4daf4a', '#377eb8']\n",
    "plt.subplot(1,2,1)\n",
    "recovered_weights = glmhmm.observations.params\n",
    "for k in range(num_states):\n",
    "    if k ==0: # show labels only for first state\n",
    "        plt.plot(range(input_dim), recovered_weights[k][0], color=cols[k],\n",
    "                     lw=1.5,  label = 'recovered', linestyle='--')   \n",
    "    else:\n",
    "        plt.plot(range(input_dim), recovered_weights[k][0], color=cols[k],\n",
    "                     lw=1.5,  label = '', linestyle='--')\n",
    "plt.yticks(fontsize=10)\n",
    "plt.ylabel(\"GLM weight\", fontsize=15)\n",
    "plt.xlabel(\"covariate\", fontsize=15)\n",
    "plt.xticks([0, 1], ['stimulus', 'bias'], fontsize=12, rotation=45)\n",
    "plt.axhline(y=0, color=\"k\", alpha=0.5, ls=\"--\")\n",
    "plt.title(\"MLE\", fontsize = 15)\n",
    "plt.legend()\n",
    "\n",
    "plt.subplot(1,2,2)\n",
    "recovered_weights = map_glmhmm.observations.params\n",
    "for k in range(num_states):\n",
    "    plt.plot(range(input_dim), recovered_weights[k][0], color=cols[k],\n",
    "                 lw=1.5,  label = '', linestyle='--')\n",
    "plt.yticks(fontsize=10)\n",
    "plt.xticks([0, 1], ['', ''], fontsize=12, rotation=45)\n",
    "plt.axhline(y=0, color=\"k\", alpha=0.5, ls=\"--\")\n",
    "plt.title(\"MAP\", fontsize = 15)"
   ]
  },
  {
   "cell_type": "code",
   "execution_count": 45,
   "metadata": {},
   "outputs": [
    {
     "data": {
      "application/vnd.jupyter.widget-view+json": {
       "model_id": "491de479e4a746d49b1f63c05c6d566b",
       "version_major": 2,
       "version_minor": 0
      },
      "image/png": "[encoded data removed]",
      "text/html": [
       "\n",
       "            <div style=\"display: inline-block;\">\n",
       "                <div class=\"jupyter-widgets widget-label\" style=\"text-align: center;\">\n",
       "                    Figure\n",
       "                </div>\n",
       "                <img src='data:image/png;base64,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' width=560.0/>\n",
       "            </div>\n",
       "        "
      ],
      "text/plain": [
       "Canvas(toolbar=Toolbar(toolitems=[('Home', 'Reset original view', 'home', 'home'), ('Back', 'Back to previous …"
      ]
     },
     "metadata": {},
     "output_type": "display_data"
    }
   ],
   "source": [
    "fig = plt.figure(figsize=(7, 2.5), dpi=80, facecolor='w', edgecolor='k')\n",
    "plt.subplot(1, 3, 1)\n",
    "recovered_trans_mat = np.exp(glmhmm.transitions.log_Ps)\n",
    "plt.imshow(recovered_trans_mat, vmin=-0.8, vmax=1, cmap='bone')\n",
    "for i in range(recovered_trans_mat.shape[0]):\n",
    "    for j in range(recovered_trans_mat.shape[1]):\n",
    "        text = plt.text(j, i, str(np.around(recovered_trans_mat[i, j], decimals=2)), ha=\"center\", va=\"center\",\n",
    "                        color=\"k\", fontsize=12)\n",
    "plt.xlim(-0.5, num_states - 0.5)\n",
    "plt.xticks(range(0, num_states), ('1', '2', '3'), fontsize=10)\n",
    "plt.yticks(range(0, num_states), ('1', '2', '3'), fontsize=10)\n",
    "plt.ylim(num_states - 0.5, -0.5)\n",
    "plt.title(\"recovered - MLE\", fontsize = 15)\n",
    "plt.subplots_adjust(0, 0, 1, 1)\n",
    "\n",
    "\n",
    "plt.subplot(1, 3, 2)\n",
    "recovered_trans_mat = np.exp(map_glmhmm.transitions.log_Ps)\n",
    "plt.imshow(recovered_trans_mat, vmin=-0.8, vmax=1, cmap='bone')\n",
    "for i in range(recovered_trans_mat.shape[0]):\n",
    "    for j in range(recovered_trans_mat.shape[1]):\n",
    "        text = plt.text(j, i, str(np.around(recovered_trans_mat[i, j], decimals=2)), ha=\"center\", va=\"center\",\n",
    "                        color=\"k\", fontsize=12)\n",
    "plt.xlim(-0.5, num_states - 0.5)\n",
    "plt.xticks(range(0, num_states), ('1', '2', '3'), fontsize=10)\n",
    "plt.yticks(range(0, num_states), ('1', '2', '3'), fontsize=10)\n",
    "plt.ylim(num_states - 0.5, -0.5)\n",
    "plt.title(\"recovered - MAP\", fontsize = 15)\n",
    "plt.subplots_adjust(0, 0, 1, 1)"
   ]
  },
  {
   "cell_type": "markdown",
   "metadata": {},
   "source": [
    "### Plot performance across days"
   ]
  },
  {
   "cell_type": "code",
   "execution_count": null,
   "metadata": {},
   "outputs": [],
   "source": [
    "#Get the average performance across days for one animal\n",
    "file_names = chiCa.pick_files_multi_session(\"chipmunk\", \"*.h5\")\n",
    "session_performance_averages = []\n",
    "\n",
    "for file in file_names:\n",
    "    session_data = pd.read_hdf(file)\n",
    "    performance = np.array(session_data.outcome_record, dtype=float)\n",
    "    performance[performance == -1] = np.nan #setting early withdrawal trials as nans\n",
    "    performance[performance == 2] = np.nan #setting no response trials as nans\n",
    "    session_performance_averages.append(np.nanmean(performance))\n",
    "\n",
    "plt.close()\n",
    "fig = plt.figure(1)\n",
    "plt.plot(session_performance_averages, label='GRB001')\n",
    "plt.xlabel('Sessions')\n",
    "plt.ylabel('Session Performance')\n",
    "plt.hlines(0.8, 0, len(session_performance_averages), color='k', linestyle='dotted')\n",
    "fig.tight_layout()\n",
    "plt.legend()\n",
    "plt.show()"
   ]
  },
  {
   "cell_type": "code",
   "execution_count": null,
   "metadata": {},
   "outputs": [],
   "source": [
    "def get_performance_averages():\n",
    "    file_names = chiCa.pick_files_multi_session(\"chipmunk\", \"*.h5\")\n",
    "    session_performance_averages = []\n",
    "    for file in file_names:\n",
    "        session_data = pd.read_hdf(file)\n",
    "        performance = np.array(session_data.outcome_record, dtype=float)\n",
    "        performance[performance == -1] = np.nan #setting early withdrawal trials as nans\n",
    "        performance[performance == 2] = np.nan #setting no response trials as nans\n",
    "        session_performance_averages.append(np.nanmean(performance))\n",
    "\n",
    "    return session_performance_averages\n",
    "\n",
    "\n",
    "GRB001_perf = get_performance_averages()\n",
    "GRB002_perf = get_performance_averages()\n",
    "GRB003_perf = get_performance_averages()\n",
    "GRB004_perf = get_performance_averages()\n",
    "\n",
    "data = {'GRB001':GRB001_perf, 'GRB002':GRB002_perf, 'GRB003':GRB003_perf, 'GRB004':GRB004_perf}"
   ]
  },
  {
   "cell_type": "code",
   "execution_count": null,
   "metadata": {},
   "outputs": [],
   "source": [
    "fig, ax = plt.subplots()\n",
    "\n",
    "for label, values in data.items():\n",
    "    ax.plot(values, label=label)\n",
    "\n",
    "ax.set_xlabel('Sessions')\n",
    "ax.set_ylabel('Session Performance')\n",
    "ax.hlines(0.8, 0, len(session_performance_averages), color='k', linestyle='dotted')\n",
    "ax.legend()\n",
    "# plt.show()"
   ]
  },
  {
   "cell_type": "markdown",
   "metadata": {},
   "source": [
    "### Plotting performance across sessions on all trial types by sex"
   ]
  },
  {
   "cell_type": "code",
   "execution_count": null,
   "metadata": {},
   "outputs": [],
   "source": [
    "# Define the data for the subplots\n",
    "males = {'GRB001':GRB001_perf, 'GRB002':GRB002_perf}\n",
    "females = {'GRB003':GRB003_perf, 'GRB004':GRB004_perf}\n",
    "\n",
    "# Define a list of blue colors for the males data\n",
    "male_colors = ['b', 'deepskyblue']\n",
    "\n",
    "# Define a list of red colors for the females data\n",
    "female_colors = ['r', 'lightcoral']\n",
    "\n",
    "# Create a figure with two subplots\n",
    "fig, (ax1, ax2) = plt.subplots(nrows=1, ncols=2, figsize=(10, 5))\n",
    "\n",
    "# Plot the data on the first subplot\n",
    "for i, (label, values) in enumerate(males.items()):\n",
    "    ax1.plot(values, label=label, color=male_colors[i])\n",
    "ax1.set_xlabel('Sessions')\n",
    "ax1.set_ylabel('Session Performance')\n",
    "ax1.hlines(0.8, 0, len(session_performance_averages), color='grey', linestyle='dotted')\n",
    "ax1.legend()\n",
    "\n",
    "# Plot the data on the second subplot\n",
    "for i, (label, values) in enumerate(females.items()):\n",
    "    ax2.plot(values, label=label, color=female_colors[i])\n",
    "ax2.set_xlabel('Sessions')\n",
    "ax2.set_ylabel('Session Performance')\n",
    "ax2.hlines(0.8, 0, len(session_performance_averages), color='grey', linestyle='dotted')\n",
    "ax2.legend()\n",
    "\n",
    "# Set the title of the figure\n",
    "fig.suptitle('Performance by Sex')\n",
    "\n",
    "# Show the plot\n",
    "plt.show()"
   ]
  },
  {
   "cell_type": "markdown",
   "metadata": {},
   "source": [
    "### Plotting performance across sessions on easy trials only"
   ]
  },
  {
   "cell_type": "code",
   "execution_count": null,
   "metadata": {},
   "outputs": [],
   "source": [
    "# stim_rates = np.array([len(timestamps) for timestamps in session_data.stimulus_event_timestamps])\n",
    "# # stim_rates\n",
    "# performance = np.array(session_data.outcome_record, dtype=float)\n",
    "# performance[performance == -1] = np.nan #setting early withdrawal trials as nans\n",
    "# performance[performance == 2] = np.nan #setting no response trials as nans\n",
    "# performance[(stim_rates != 4) & (stim_rates != 20)] = np.nan #setting non easy trials (4 and 20 Hz) to nan\n",
    "# performance\n",
    "\n",
    "\n",
    "def get_performance_averages():\n",
    "    file_names = chiCa.pick_files_multi_session(\"chipmunk\", \"*.h5\")\n",
    "    session_performance_averages = []\n",
    "    for file in file_names:\n",
    "        session_data = pd.read_hdf(file)\n",
    "        stim_rates = np.array([len(timestamps) for timestamps in session_data.stimulus_event_timestamps])\n",
    "        performance = np.array(session_data.outcome_record, dtype=float)\n",
    "        performance[performance == -1] = np.nan #setting early withdrawal trials as nans\n",
    "        performance[performance == 2] = np.nan #setting no response trials as nans\n",
    "        performance[(stim_rates != 4) & (stim_rates != 20)] = np.nan #setting non easy trials (4 and 20 Hz) to nan\n",
    "        session_performance_averages.append(np.nanmean(performance))\n",
    "\n",
    "    return session_performance_averages\n",
    "\n",
    "\n",
    "GRB001_perf = get_performance_averages()\n",
    "GRB002_perf = get_performance_averages()\n",
    "GRB003_perf = get_performance_averages()\n",
    "GRB004_perf = get_performance_averages()\n",
    "\n",
    "data = {'GRB001':GRB001_perf, 'GRB002':GRB002_perf, 'GRB003':GRB003_perf, 'GRB004':GRB004_perf}\n",
    "\n",
    "# Define the data for the subplots\n",
    "males = {'GRB001':GRB001_perf, 'GRB002':GRB002_perf}\n",
    "females = {'GRB003':GRB003_perf, 'GRB004':GRB004_perf}\n",
    "\n",
    "male_colors = ['b', 'deepskyblue']\n",
    "female_colors = ['r', 'lightcoral']\n",
    "\n",
    "fig, (ax1, ax2) = plt.subplots(nrows=1, ncols=2, figsize=(10, 5))\n",
    "\n",
    "#males plot\n",
    "for i, (label, values) in enumerate(males.items()):\n",
    "    ax1.plot(values, label=label, color=male_colors[i])\n",
    "ax1.set_xlabel('Sessions')\n",
    "ax1.set_ylabel('Session Performance')\n",
    "ax1.hlines(0.8, 0, len(session_performance_averages), color='grey', linestyle='dotted')\n",
    "ax1.legend()\n",
    "\n",
    "#females plot\n",
    "for i, (label, values) in enumerate(females.items()):\n",
    "    ax2.plot(values, label=label, color=female_colors[i])\n",
    "ax2.set_xlabel('Sessions')\n",
    "ax2.set_ylabel('Session Performance')\n",
    "ax2.hlines(0.8, 0, len(session_performance_averages), color='grey', linestyle='dotted')\n",
    "ax2.legend()\n",
    "\n",
    "fig.suptitle('Performance by Sex')\n",
    "plt.show()\n"
   ]
  },
  {
   "cell_type": "markdown",
   "metadata": {},
   "source": [
    "### Plot the same thing as above but averaging animals and plotting the SEM"
   ]
  },
  {
   "cell_type": "code",
   "execution_count": null,
   "metadata": {},
   "outputs": [],
   "source": [
    "males = {'GRB001':GRB001_perf, 'GRB002':GRB002_perf}\n",
    "females = {'GRB003':GRB003_perf, 'GRB004':GRB004_perf}\n",
    "\n",
    "# Get the length of the longest data series\n",
    "max_len = max([len(values) for label, values in males.items()] + [len(values) for label, values in females.items()])\n",
    "\n",
    "# Pad the data series with NaN values to ensure they all have the same length\n",
    "for label, values in males.items():\n",
    "    males[label] = np.pad(values, (0, max_len - len(values)), mode='constant', constant_values=np.nan)\n",
    "for label, values in females.items():\n",
    "    females[label] = np.pad(values, (0, max_len - len(values)), mode='constant', constant_values=np.nan)\n",
    "\n",
    "# Calculate the mean and SEM for each data series at every timepoint\n",
    "male_means = np.nanmean([values for label, values in males.items()], axis=0)\n",
    "male_sems = np.nanstd([values for label, values in males.items()], axis=0) / np.sqrt(np.count_nonzero(~np.isnan([values for label, values in males.items()]), axis=0))\n",
    "female_means = np.nanmean([values for label, values in females.items()], axis=0)\n",
    "female_sems = np.nanstd([values for label, values in females.items()], axis=0) / np.sqrt(np.count_nonzero(~np.isnan([values for label, values in females.items()]), axis=0))\n",
    "\n",
    "male_color = 'b'\n",
    "female_color = 'r'\n",
    "\n",
    "fig, (ax1, ax2) = plt.subplots(nrows=1, ncols=2, figsize=(16, 5))\n",
    "\n",
    "#males plot\n",
    "ax1.plot(male_means, label='Males', color=male_color)\n",
    "ax1.fill_between(range(len(male_means)), male_means - male_sems, male_means + male_sems, alpha=0.2, color=male_color)\n",
    "ax1.set_xlabel('Sessions')\n",
    "ax1.set_ylabel('Session Performance')\n",
    "ax1.set_ylim([0.3, 1])\n",
    "ax1.hlines(0.7, 0, len(male_means), color='grey', linestyle='dotted')\n",
    "ax1.legend()\n",
    "\n",
    "#females plot\n",
    "ax2.plot(female_means, label='Females', color=female_color)\n",
    "ax2.fill_between(range(len(female_means)), female_means - female_sems, female_means + female_sems, alpha=0.2, color=female_color)\n",
    "ax2.set_xlabel('Sessions')\n",
    "ax2.set_ylabel('Session Performance')\n",
    "ax2.set_ylim([0.3, 1])\n",
    "ax2.hlines(0.7, 0, len(female_means), color='grey', linestyle='dotted')\n",
    "ax2.legend()\n",
    "\n",
    "fig.suptitle('Performance by Sex - Easy Trials Only')\n",
    "fig.tight_layout()\n",
    "plt.show()\n",
    "plt.savefig(\"performance-by-sex-across-learning.pdf\", dpi=300)"
   ]
  },
  {
   "cell_type": "markdown",
   "metadata": {},
   "source": [
    "# PMF Fitting"
   ]
  },
  {
   "cell_type": "code",
   "execution_count": null,
   "metadata": {},
   "outputs": [],
   "source": [
    "import pandas as pd\n",
    "import matplotlib.pyplot as plt\n",
    "import seaborn as sns\n",
    "import numpy as np\n",
    "from utils import *\n",
    "from fit_psychometric import PsychometricRegression, fit_psychometric, cumulative_gaussian, weibull\n",
    "\n",
    "#temp workaround since it gets removed from the path whenever the kernel is restarted\n",
    "import sys\n",
    "sys.path.insert(0, '/Users/gabriel/lib/')\n",
    "import chiCa\n",
    "\n",
    "%matplotlib widget"
   ]
  },
  {
   "cell_type": "markdown",
   "metadata": {},
   "source": [
    "### Plot PMF"
   ]
  },
  {
   "cell_type": "code",
   "execution_count": null,
   "metadata": {},
   "outputs": [],
   "source": [
    "file = chiCa.pick_files_multi_session(\"chipmunk\", \"*.h5\")\n",
    "session_data = pd.read_hdf(file[0])\n",
    "\n",
    "sel = session_data[session_data.response_side.isin([0,1])] # select only trials where the subject responded\n",
    "responded_right = np.array(sel.response_side == 1).astype(int) # select the response = 1 (i.e. the left side) and cast to integer datatype (number)   \n",
    "sel_stim_rates = np.array([len(timestamps) for timestamps in sel.stimulus_event_timestamps])\n",
    "\n",
    "res = fit_psychometric(sel_stim_rates.astype(float),responded_right.astype(float))\n",
    "\n",
    "# now plot\n",
    "plt.figure()\n",
    "for s,c in zip(res['stims'],res['p_side_ci']):\n",
    "    plt.plot(s*np.array([1,1]),c,'k-_')\n",
    "plt.plot(res['stims'],res['p_side'],'ko',markerfacecolor = 'lightgray',markersize = 6)\n",
    "\n",
    "nx = np.linspace(res['stims'].min(),res['stims'].max(),100)\n",
    "plt.plot(nx,res['function'](*res['fit_params'],nx),'k')\n",
    "plt.ylabel('P$_{right}$',fontsize = 18)  # set the y-axis label with latex nomenclature\n",
    "plt.xlabel('Stimulus rate (Hz)', fontsize = 14); # set the x-axis label\n",
    "res['fit'].summary()"
   ]
  },
  {
   "cell_type": "code",
   "execution_count": null,
   "metadata": {},
   "outputs": [],
   "source": [
    "def plot_pmf_fit(min_stims=5):\n",
    "    file_names = chiCa.pick_files_multi_session(\"chipmunk\", \"*.h5\")\n",
    "    for file in file_names:\n",
    "        session_data = pd.read_hdf(file)\n",
    "        sel = session_data[session_data.response_side.isin([0,1])] # select only trials where the subject responded\n",
    "        responded_right = np.array(sel.response_side == 1).astype(int) # select the response = 1 (i.e. the left side) and cast to integer datatype (number)   \n",
    "        sel_stim_rates = np.array([len(timestamps) for timestamps in sel.stimulus_event_timestamps])\n",
    "\n",
    "        if len(np.unique(sel_stim_rates))==min_stims:\n",
    "            try:\n",
    "                res = fit_psychometric(sel_stim_rates.astype(float),responded_right.astype(float), min_required_stim_values=min_stims)\n",
    "\n",
    "                # now plot\n",
    "                for s,c in zip(res['stims'],res['p_side_ci']):\n",
    "                    plt.plot(s*np.array([1,1]),c,'k-_')\n",
    "                plt.plot(res['stims'],res['p_side'],'ko',markerfacecolor = 'lightgray',markersize = 6)\n",
    "\n",
    "                nx = np.linspace(res['stims'].min(),res['stims'].max(),100)\n",
    "                plt.plot(nx,res['function'](*res['fit_params'],nx),'k')\n",
    "                plt.ylabel('P$_{right}$',fontsize = 18)  # set the y-axis label with latex nomenclature\n",
    "                plt.xlabel('Stimulus rate (Hz)', fontsize = 14); # set the x-axis label\n",
    "            except:\n",
    "                continue\n",
    "\n",
    "    plt.show()\n",
    "    \n",
    "    return None\n",
    "\n",
    "plt.close()\n",
    "plot_pmf_fit()"
   ]
  },
  {
   "cell_type": "markdown",
   "metadata": {},
   "source": [
    "### Plot fits across sessions given a stimulus frequency condition"
   ]
  },
  {
   "cell_type": "code",
   "execution_count": null,
   "metadata": {},
   "outputs": [],
   "source": [
    "def plot_pmf_fit(min_stims=5, stims_equal=False, show_plot=False):\n",
    "    import matplotlib.cm as cm\n",
    "    file_names = chiCa.pick_files_multi_session(\"chipmunk\", \"*.h5\")\n",
    "    count=0\n",
    "    for file in file_names:\n",
    "        session_data = pd.read_hdf(file)\n",
    "        sel = session_data[session_data.response_side.isin([0,1])] # select only trials where the subject responded\n",
    "        responded_right = np.array(sel.response_side == 1).astype(int) # select the response = 1 (i.e. the left side) and cast to integer datatype (number)   \n",
    "        sel_stim_rates = np.array([len(timestamps) for timestamps in sel.stimulus_event_timestamps])\n",
    "        if stims_equal:\n",
    "            if len(np.unique(sel_stim_rates))==min_stims:\n",
    "                count+=1\n",
    "        else:\n",
    "            if len(np.unique(sel_stim_rates))>=min_stims:\n",
    "                count+=1\n",
    "\n",
    "    colors = cm.plasma(np.linspace(0, 1, count)) # get a sequential colormap\n",
    "\n",
    "    fig, ax = plt.subplots()\n",
    "    color_count = 0\n",
    "    for i, file in enumerate(file_names):\n",
    "        session_data = pd.read_hdf(file)\n",
    "        sel = session_data[session_data.response_side.isin([0,1])] # select only trials where the subject responded\n",
    "        responded_right = np.array(sel.response_side == 1).astype(int) # select the response = 1 (i.e. the left side) and cast to integer datatype (number)   \n",
    "        sel_stim_rates = np.array([len(timestamps) for timestamps in sel.stimulus_event_timestamps])\n",
    "\n",
    "        if stims_equal:\n",
    "            if len(np.unique(sel_stim_rates))==min_stims:\n",
    "                try:\n",
    "                    res = fit_psychometric(sel_stim_rates.astype(float),responded_right.astype(float), min_required_stim_values=min_stims)\n",
    "\n",
    "                    # now plot\n",
    "                    for s,c in zip(res['stims'],res['p_side_ci']):\n",
    "                        ax.plot(s*np.array([1,1]),c,color=colors[color_count], linestyle='-', linewidth=2)\n",
    "                    ax.plot(res['stims'],res['p_side'],'o',markerfacecolor = 'lightgray',markersize = 6, color=colors[color_count])\n",
    "\n",
    "                    nx = np.linspace(res['stims'].min(),res['stims'].max(),100)\n",
    "                    ax.plot(nx,res['function'](*res['fit_params'],nx),color=colors[color_count], linewidth=2)\n",
    "                    ax.set_ylabel('P$_{right}$',fontsize = 18)  # set the y-axis label with latex nomenclature\n",
    "                    ax.set_xlabel('Stimulus rate (Hz)', fontsize = 14); # set the x-axis label\n",
    "                    color_count += 1\n",
    "                except:\n",
    "                    continue\n",
    "        else:\n",
    "            if len(np.unique(sel_stim_rates))>=min_stims:\n",
    "                try:\n",
    "                    res = fit_psychometric(sel_stim_rates.astype(float),responded_right.astype(float), min_required_stim_values=min_stims)\n",
    "\n",
    "                    # now plot\n",
    "                    for s,c in zip(res['stims'],res['p_side_ci']):\n",
    "                        ax.plot(s*np.array([1,1]),c,color=colors[color_count], linestyle='-', linewidth=2)\n",
    "                    ax.plot(res['stims'],res['p_side'],'o',markerfacecolor = 'lightgray',markersize = 6, color=colors[color_count])\n",
    "\n",
    "                    nx = np.linspace(res['stims'].min(),res['stims'].max(),100)\n",
    "                    ax.plot(nx,res['function'](*res['fit_params'],nx),color=colors[color_count], linewidth=2)\n",
    "                    ax.set_ylabel('P$_{right}$',fontsize = 18)  # set the y-axis label with latex nomenclature\n",
    "                    ax.set_xlabel('Stimulus rate (Hz)', fontsize = 14); # set the x-axis label\n",
    "                    color_count += 1\n",
    "                except:\n",
    "                    continue\n",
    "\n",
    "    # add colorbar\n",
    "    sm = plt.cm.ScalarMappable(cmap=cm.plasma, norm=plt.Normalize(vmin=0, vmax=count-1))\n",
    "    sm._A = []\n",
    "    cbar = fig.colorbar(sm, ax=ax)\n",
    "    cbar.set_label('Sessions', rotation=270, labelpad=20)\n",
    "\n",
    "    if show_plot:\n",
    "        plt.show()\n",
    "    \n",
    "    return None\n",
    "\n",
    "# plt.close()\n",
    "# plot_pmf_fit(min_stims=2, stims_equal=True, show_plot=True)"
   ]
  },
  {
   "cell_type": "markdown",
   "metadata": {},
   "source": [
    "### Plotting the above for all 4 animals at once"
   ]
  },
  {
   "cell_type": "code",
   "execution_count": null,
   "metadata": {},
   "outputs": [],
   "source": [
    "def plot_pmf_fit_grid(ax, min_stims=5, stims_equal=False, show_plot=False):\n",
    "    import matplotlib.cm as cm\n",
    "    file_names = chiCa.pick_files_multi_session(\"chipmunk\", \"*.h5\")\n",
    "    count=0\n",
    "    for file in file_names:\n",
    "        session_data = pd.read_hdf(file)\n",
    "        sel = session_data[session_data.response_side.isin([0,1])] # select only trials where the subject responded\n",
    "        responded_right = np.array(sel.response_side == 1).astype(int) # select the response = 1 (i.e. the left side) and cast to integer datatype (number)   \n",
    "        sel_stim_rates = np.array([len(timestamps) for timestamps in sel.stimulus_event_timestamps])\n",
    "        if stims_equal:\n",
    "            if len(np.unique(sel_stim_rates))==min_stims:\n",
    "                count+=1\n",
    "        else:\n",
    "            if len(np.unique(sel_stim_rates))>=min_stims:\n",
    "                count+=1\n",
    "\n",
    "    colors = cm.plasma(np.linspace(0, 1, count)) # get a sequential colormap\n",
    "\n",
    "    xticks = dict({2:[4,20], 4:[4,8,16,20], 5:[4,8,12,16,20], 9:[4,6,8,10,12,14,16,18,20]})\n",
    "\n",
    "    color_count = 0\n",
    "    for i, file in enumerate(file_names):\n",
    "        session_data = pd.read_hdf(file)\n",
    "        sel = session_data[session_data.response_side.isin([0,1])] # select only trials where the subject responded\n",
    "        responded_right = np.array(sel.response_side == 1).astype(int) # select the response = 1 (i.e. the left side) and cast to integer datatype (number)   \n",
    "        sel_stim_rates = np.array([len(timestamps) for timestamps in sel.stimulus_event_timestamps])\n",
    "\n",
    "        if stims_equal:\n",
    "            if len(np.unique(sel_stim_rates))==min_stims:\n",
    "                try:\n",
    "                    res = fit_psychometric(sel_stim_rates.astype(float),responded_right.astype(float), min_required_stim_values=min_stims)\n",
    "\n",
    "                    # now plot\n",
    "                    for s,c in zip(res['stims'],res['p_side_ci']):\n",
    "                        ax.plot(s*np.array([1,1]),c,color=colors[color_count], linestyle='-', linewidth=2)\n",
    "                    ax.plot(res['stims'],res['p_side'],'o',markerfacecolor = 'lightgray',markersize = 6, color=colors[color_count])\n",
    "\n",
    "                    nx = np.linspace(res['stims'].min(),res['stims'].max(),100)\n",
    "                    ax.plot(nx,res['function'](*res['fit_params'],nx),color=colors[color_count], linewidth=2)\n",
    "                    ax.set_ylabel('P$_{right}$',fontsize = 18)  # set the y-axis label with latex nomenclature\n",
    "                    ax.set_xlabel('Stimulus rate (Hz)', fontsize = 14); # set the x-axis label\n",
    "                    ax.set_xticks(xticks[min_stims])\n",
    "                    color_count += 1\n",
    "                except:\n",
    "                    continue\n",
    "        else:\n",
    "            if len(np.unique(sel_stim_rates))>=min_stims:\n",
    "                try:\n",
    "                    res = fit_psychometric(sel_stim_rates.astype(float),responded_right.astype(float), min_required_stim_values=min_stims)\n",
    "\n",
    "                    # now plot\n",
    "                    for s,c in zip(res['stims'],res['p_side_ci']):\n",
    "                        ax.plot(s*np.array([1,1]),c,color=colors[color_count], linestyle='-', linewidth=2)\n",
    "                    ax.plot(res['stims'],res['p_side'],'o',markerfacecolor = 'lightgray',markersize = 6, color=colors[color_count])\n",
    "\n",
    "                    nx = np.linspace(res['stims'].min(),res['stims'].max(),100)\n",
    "                    ax.plot(nx,res['function'](*res['fit_params'],nx),color=colors[color_count], linewidth=2)\n",
    "                    ax.set_ylabel('P$_{right}$',fontsize = 18)  # set the y-axis label with latex nomenclature\n",
    "                    ax.set_xlabel('Stimulus rate (Hz)', fontsize = 14); # set the x-axis label\n",
    "                    color_count += 1\n",
    "                    ax.set_xticks(xticks[8])\n",
    "                except:\n",
    "                    continue\n",
    "\n",
    "    # add colorbar\n",
    "    sm = plt.cm.ScalarMappable(cmap=cm.plasma, norm=plt.Normalize(vmin=0, vmax=count-1))\n",
    "    sm._A = []\n",
    "    cbar = fig.colorbar(sm, ax=ax)\n",
    "    cbar.set_label('Sessions', rotation=270, labelpad=20)\n",
    "\n",
    "    if show_plot:\n",
    "        plt.show()\n",
    "    \n",
    "    return None\n",
    "\n",
    "def plot_PMF_four_animals(minstims, stimsequal):\n",
    "    fig, axs = plt.subplots(2, 2)\n",
    "\n",
    "    for i, ax in enumerate(axs.flatten()):\n",
    "        plot_pmf_fit_grid(ax, min_stims=minstims, stims_equal=stimsequal)\n",
    "        ax.set_title(f\"GRB00{i+1}\")\n",
    "\n",
    "    fig.tight_layout()\n",
    "\n",
    "    plt.show()\n",
    "\n",
    "plt.close()\n",
    "plot_PMF_four_animals(minstims=5, stimsequal=False)"
   ]
  },
  {
   "cell_type": "markdown",
   "metadata": {},
   "source": [
    "## Getting PMF paramters (bias, sensitivity, left lapse, right lapse)"
   ]
  },
  {
   "cell_type": "code",
   "execution_count": null,
   "metadata": {},
   "outputs": [],
   "source": [
    "def get_pmf_parameters():\n",
    "    file_names = chiCa.pick_files_multi_session(\"chipmunk\", \"*.h5\")\n",
    "    bias = []\n",
    "    sensitivity = []\n",
    "    left_lapse = []\n",
    "    right_lapse = []\n",
    "    for file in file_names:\n",
    "        session_data = pd.read_hdf(file)\n",
    "        sel = session_data[session_data.response_side.isin([0,1])] # select only trials where the subject responded\n",
    "        responded_right = np.array(sel.response_side == 1).astype(int) # select the response = 1 (i.e. the left side) and cast to integer datatype (number)   \n",
    "        sel_stim_rates = np.array([len(timestamps) for timestamps in sel.stimulus_event_timestamps])\n",
    "\n",
    "\n",
    "        res = fit_psychometric(sel_stim_rates.astype(float),responded_right.astype(float), min_required_stim_values=5)\n",
    "\n",
    "        try:\n",
    "            bias.append(res['fit_params'][0])\n",
    "            sensitivity.append(res['fit_params'][1])\n",
    "            left_lapse.append(res['fit_params'][2])\n",
    "            right_lapse.append(res['fit_params'][3])\n",
    "        except:\n",
    "            bias.append(np.nan)\n",
    "            sensitivity.append(np.nan)\n",
    "            left_lapse.append(np.nan)\n",
    "            right_lapse.append(np.nan)\n",
    "\n",
    "    return bias, sensitivity, left_lapse, right_lapse\n",
    "\n",
    "GRB001_pmf_parameters = get_pmf_parameters()\n",
    "GRB002_pmf_parameters = get_pmf_parameters()\n",
    "GRB003_pmf_parameters = get_pmf_parameters()\n",
    "GRB004_pmf_parameters = get_pmf_parameters()\n",
    "\n",
    "GRB001_params = dict({'bias':GRB001_pmf_parameters[0], 'sensitivity':GRB001_pmf_parameters[1], 'left_lapse':GRB001_pmf_parameters[2], 'right_lapse':GRB001_pmf_parameters[3]})\n",
    "GRB002_params = dict({'bias':GRB002_pmf_parameters[0], 'sensitivity':GRB002_pmf_parameters[1], 'left_lapse':GRB002_pmf_parameters[2], 'right_lapse':GRB002_pmf_parameters[3]})\n",
    "GRB003_params = dict({'bias':GRB003_pmf_parameters[0], 'sensitivity':GRB003_pmf_parameters[1], 'left_lapse':GRB003_pmf_parameters[2], 'right_lapse':GRB003_pmf_parameters[3]})\n",
    "GRB004_params = dict({'bias':GRB004_pmf_parameters[0], 'sensitivity':GRB004_pmf_parameters[1], 'left_lapse':GRB004_pmf_parameters[2], 'right_lapse':GRB004_pmf_parameters[3]})"
   ]
  },
  {
   "cell_type": "markdown",
   "metadata": {},
   "source": [
    "### Parameters lineplot"
   ]
  },
  {
   "cell_type": "code",
   "execution_count": null,
   "metadata": {},
   "outputs": [],
   "source": [
    "plt.close()\n",
    "\n",
    "fig, axs = plt.subplots(2, 2, figsize=(10, 10))\n",
    "\n",
    "# Plot bias\n",
    "bias_GRB001 = np.array(GRB001_params['bias'])\n",
    "bias_GRB002 = np.array(GRB002_params['bias'])\n",
    "bias_GRB003 = np.array(GRB003_params['bias'])\n",
    "bias_GRB004 = np.array(GRB004_params['bias'])\n",
    "\n",
    "max_length = max(len(bias_GRB001), len(bias_GRB002), len(bias_GRB003), len(bias_GRB004))\n",
    "\n",
    "bias_GRB001 = np.pad(bias_GRB001, (0, max_length - len(bias_GRB001)), mode='constant', constant_values=np.nan)\n",
    "bias_GRB002 = np.pad(bias_GRB002, (0, max_length - len(bias_GRB002)), mode='constant', constant_values=np.nan)\n",
    "bias_GRB003 = np.pad(bias_GRB003, (0, max_length - len(bias_GRB003)), mode='constant', constant_values=np.nan)\n",
    "bias_GRB004 = np.pad(bias_GRB004, (0, max_length - len(bias_GRB004)), mode='constant', constant_values=np.nan)\n",
    "\n",
    "bias = np.array([bias_GRB001, bias_GRB002, bias_GRB003, bias_GRB004])\n",
    "labels = ['GRB001', 'GRB002', 'GRB003', 'GRB004']\n",
    "\n",
    "axs[0, 0].plot(bias.T, label=labels)\n",
    "axs[0, 0].set_title('Bias')\n",
    "axs[0, 0].legend()\n",
    "\n",
    "# Plot sensitivity\n",
    "sensitivity_GRB001 = np.array(GRB001_params['sensitivity'])\n",
    "sensitivity_GRB002 = np.array(GRB002_params['sensitivity'])\n",
    "sensitivity_GRB003 = np.array(GRB003_params['sensitivity'])\n",
    "sensitivity_GRB004 = np.array(GRB004_params['sensitivity'])\n",
    "\n",
    "max_length = max(len(sensitivity_GRB001), len(sensitivity_GRB002), len(sensitivity_GRB003), len(sensitivity_GRB004))\n",
    "\n",
    "sensitivity_GRB001 = np.pad(sensitivity_GRB001, (0, max_length - len(sensitivity_GRB001)), mode='constant', constant_values=np.nan)\n",
    "sensitivity_GRB002 = np.pad(sensitivity_GRB002, (0, max_length - len(sensitivity_GRB002)), mode='constant', constant_values=np.nan)\n",
    "sensitivity_GRB003 = np.pad(sensitivity_GRB003, (0, max_length - len(sensitivity_GRB003)), mode='constant', constant_values=np.nan)\n",
    "sensitivity_GRB004 = np.pad(sensitivity_GRB004, (0, max_length - len(sensitivity_GRB004)), mode='constant', constant_values=np.nan)\n",
    "\n",
    "sensitivity = np.array([sensitivity_GRB001, sensitivity_GRB002, sensitivity_GRB003, sensitivity_GRB004])\n",
    "labels = ['GRB001', 'GRB002', 'GRB003', 'GRB004']\n",
    "\n",
    "axs[0, 1].plot(sensitivity.T, label=labels)\n",
    "axs[0, 1].set_title('Sensitivity')\n",
    "axs[0, 1].legend()\n",
    "\n",
    "# Plot left lapse\n",
    "left_lapse_GRB001 = np.array(GRB001_params['left_lapse'])\n",
    "left_lapse_GRB002 = np.array(GRB002_params['left_lapse'])\n",
    "left_lapse_GRB003 = np.array(GRB003_params['left_lapse'])\n",
    "left_lapse_GRB004 = np.array(GRB004_params['left_lapse'])\n",
    "\n",
    "max_length = max(len(left_lapse_GRB001), len(left_lapse_GRB002), len(left_lapse_GRB003), len(left_lapse_GRB004))\n",
    "\n",
    "left_lapse_GRB001 = np.pad(left_lapse_GRB001, (0, max_length - len(left_lapse_GRB001)), mode='constant', constant_values=np.nan)\n",
    "left_lapse_GRB002 = np.pad(left_lapse_GRB002, (0, max_length - len(left_lapse_GRB002)), mode='constant', constant_values=np.nan)\n",
    "left_lapse_GRB003 = np.pad(left_lapse_GRB003, (0, max_length - len(left_lapse_GRB003)), mode='constant', constant_values=np.nan)\n",
    "left_lapse_GRB004 = np.pad(left_lapse_GRB004, (0, max_length - len(left_lapse_GRB004)), mode='constant', constant_values=np.nan)\n",
    "\n",
    "left_lapse = np.array([left_lapse_GRB001, left_lapse_GRB002, left_lapse_GRB003, left_lapse_GRB004])\n",
    "labels = ['GRB001', 'GRB002', 'GRB003', 'GRB004']\n",
    "\n",
    "axs[1, 0].plot(left_lapse.T, label=labels)\n",
    "axs[1, 0].set_title('Left Lapse')\n",
    "axs[1, 0].legend()\n",
    "\n",
    "# Plot right lapse\n",
    "right_lapse_GRB001 = np.array(GRB001_params['right_lapse'])\n",
    "right_lapse_GRB002 = np.array(GRB002_params['right_lapse'])\n",
    "right_lapse_GRB003 = np.array(GRB003_params['right_lapse'])\n",
    "right_lapse_GRB004 = np.array(GRB004_params['right_lapse'])\n",
    "\n",
    "max_length = max(len(right_lapse_GRB001), len(right_lapse_GRB002), len(right_lapse_GRB003), len(right_lapse_GRB004))\n",
    "\n",
    "right_lapse_GRB001 = np.pad(right_lapse_GRB001, (0, max_length - len(right_lapse_GRB001)), mode='constant', constant_values=np.nan)\n",
    "right_lapse_GRB002 = np.pad(right_lapse_GRB002, (0, max_length - len(right_lapse_GRB002)), mode='constant', constant_values=np.nan)\n",
    "right_lapse_GRB003 = np.pad(right_lapse_GRB003, (0, max_length - len(right_lapse_GRB003)), mode='constant', constant_values=np.nan)\n",
    "right_lapse_GRB004 = np.pad(right_lapse_GRB004, (0, max_length - len(right_lapse_GRB004)), mode='constant', constant_values=np.nan)\n",
    "\n",
    "right_lapse = np.array([right_lapse_GRB001, right_lapse_GRB002, right_lapse_GRB003, right_lapse_GRB004])\n",
    "labels = ['GRB001', 'GRB002', 'GRB003', 'GRB004']\n",
    "\n",
    "axs[1, 1].plot(right_lapse.T, label=labels)\n",
    "axs[1, 1].set_title('Right Lapse')\n",
    "axs[1, 1].legend()\n",
    "\n",
    "plt.show()"
   ]
  },
  {
   "cell_type": "markdown",
   "metadata": {},
   "source": [
    "### Parameters boxplot with matplotlib"
   ]
  },
  {
   "cell_type": "code",
   "execution_count": null,
   "metadata": {},
   "outputs": [],
   "source": [
    "import seaborn as sns\n",
    "\n",
    "plt.close()\n",
    "\n",
    "fig, axs = plt.subplots(2, 2, figsize=(10, 10))\n",
    "\n",
    "# Plot bias\n",
    "bias_GRB001 = np.array(GRB001_params['bias'])\n",
    "bias_GRB002 = np.array(GRB002_params['bias'])\n",
    "bias_GRB003 = np.array(GRB003_params['bias'])\n",
    "bias_GRB004 = np.array(GRB004_params['bias'])\n",
    "\n",
    "bias_data = [bias_GRB001[~np.isnan(bias_GRB001)],\n",
    "             bias_GRB002[~np.isnan(bias_GRB002)],\n",
    "             bias_GRB003[~np.isnan(bias_GRB003)],\n",
    "             bias_GRB004[~np.isnan(bias_GRB004)]]\n",
    "\n",
    "boxprops = dict(linestyle='-', linewidth=2)\n",
    "boxprops['color'] = sns.color_palette('Blues')[2]\n",
    "axs[0, 0].boxplot(bias_data, boxprops=boxprops)\n",
    "axs[0, 0].set_title('Bias')\n",
    "axs[0, 0].set_xticklabels(['GRB001', 'GRB002', 'GRB003', 'GRB004'])\n",
    "\n",
    "# Plot sensitivity\n",
    "sensitivity_GRB001 = np.array(GRB001_params['sensitivity'])\n",
    "sensitivity_GRB002 = np.array(GRB002_params['sensitivity'])\n",
    "sensitivity_GRB003 = np.array(GRB003_params['sensitivity'])\n",
    "sensitivity_GRB004 = np.array(GRB004_params['sensitivity'])\n",
    "\n",
    "sensitivity_data = [sensitivity_GRB001[~np.isnan(sensitivity_GRB001)],\n",
    "                    sensitivity_GRB002[~np.isnan(sensitivity_GRB002)],\n",
    "                    sensitivity_GRB003[~np.isnan(sensitivity_GRB003)],\n",
    "                    sensitivity_GRB004[~np.isnan(sensitivity_GRB004)]]\n",
    "\n",
    "boxprops = dict(linestyle='-', linewidth=2, color=sns.color_palette('Reds')[3])\n",
    "axs[0, 1].boxplot(sensitivity_data, boxprops=boxprops)\n",
    "axs[0, 1].set_title('Sensitivity')\n",
    "axs[0, 1].set_xticklabels(['GRB001', 'GRB002', 'GRB003', 'GRB004'])\n",
    "\n",
    "# Plot left lapse\n",
    "left_lapse_GRB001 = np.array(GRB001_params['left_lapse'])\n",
    "left_lapse_GRB002 = np.array(GRB002_params['left_lapse'])\n",
    "left_lapse_GRB003 = np.array(GRB003_params['left_lapse'])\n",
    "left_lapse_GRB004 = np.array(GRB004_params['left_lapse'])\n",
    "\n",
    "left_lapse_data = [left_lapse_GRB001[~np.isnan(left_lapse_GRB001)],\n",
    "                   left_lapse_GRB002[~np.isnan(left_lapse_GRB002)],\n",
    "                   left_lapse_GRB003[~np.isnan(left_lapse_GRB003)],\n",
    "                   left_lapse_GRB004[~np.isnan(left_lapse_GRB004)]]\n",
    "\n",
    "boxprops = dict(linestyle='-', linewidth=2, color=sns.color_palette('Greens')[3])\n",
    "axs[1, 0].boxplot(left_lapse_data, boxprops=boxprops)\n",
    "axs[1, 0].set_title('Left Lapse')\n",
    "axs[1, 0].set_xticklabels(['GRB001', 'GRB002', 'GRB003', 'GRB004'])\n",
    "\n",
    "# Plot right lapse\n",
    "right_lapse_GRB001 = np.array(GRB001_params['right_lapse'])\n",
    "right_lapse_GRB002 = np.array(GRB002_params['right_lapse'])\n",
    "right_lapse_GRB003 = np.array(GRB003_params['right_lapse'])\n",
    "right_lapse_GRB004 = np.array(GRB004_params['right_lapse'])\n",
    "\n",
    "right_lapse_data = [right_lapse_GRB001[~np.isnan(right_lapse_GRB001)],\n",
    "                    right_lapse_GRB002[~np.isnan(right_lapse_GRB002)],\n",
    "                    right_lapse_GRB003[~np.isnan(right_lapse_GRB003)],\n",
    "                    right_lapse_GRB004[~np.isnan(right_lapse_GRB004)]]\n",
    "\n",
    "boxprops = dict(linestyle='-', linewidth=2, color=sns.color_palette('Purples')[3])\n",
    "axs[1, 1].boxplot(right_lapse_data, boxprops=boxprops)\n",
    "axs[1, 1].set_title('Right Lapse')\n",
    "axs[1, 1].set_xticklabels(['GRB001', 'GRB002', 'GRB003', 'GRB004'])\n",
    "\n",
    "plt.show()"
   ]
  },
  {
   "cell_type": "markdown",
   "metadata": {},
   "source": [
    "### Parameters boxplot with seaborn"
   ]
  },
  {
   "cell_type": "code",
   "execution_count": null,
   "metadata": {},
   "outputs": [],
   "source": [
    "import seaborn as sns\n",
    "\n",
    "fig, axs = plt.subplots(2, 2, figsize=(10, 10))\n",
    "\n",
    "# Plot bias\n",
    "bias_GRB001 = np.array(GRB001_params['bias'])\n",
    "bias_GRB002 = np.array(GRB002_params['bias'])\n",
    "bias_GRB003 = np.array(GRB003_params['bias'])\n",
    "bias_GRB004 = np.array(GRB004_params['bias'])\n",
    "\n",
    "bias_data = [bias_GRB001[~np.isnan(bias_GRB001)],\n",
    "             bias_GRB002[~np.isnan(bias_GRB002)],\n",
    "             bias_GRB003[~np.isnan(bias_GRB003)],\n",
    "             bias_GRB004[~np.isnan(bias_GRB004)]]\n",
    "\n",
    "sns.boxplot(ax=axs[0, 0], data=bias_data, color=sns.color_palette('Blues')[2])\n",
    "sns.stripplot(ax=axs[0, 0], data=bias_data, color='grey')\n",
    "axs[0, 0].set_title('Bias')\n",
    "axs[0, 0].set_xticklabels(['GRB001', 'GRB002', 'GRB003', 'GRB004'])\n",
    "\n",
    "# Plot sensitivity\n",
    "sensitivity_GRB001 = np.array(GRB001_params['sensitivity'])\n",
    "sensitivity_GRB002 = np.array(GRB002_params['sensitivity'])\n",
    "sensitivity_GRB003 = np.array(GRB003_params['sensitivity'])\n",
    "sensitivity_GRB004 = np.array(GRB004_params['sensitivity'])\n",
    "\n",
    "sensitivity_data = [sensitivity_GRB001[~np.isnan(sensitivity_GRB001)],\n",
    "                    sensitivity_GRB002[~np.isnan(sensitivity_GRB002)],\n",
    "                    sensitivity_GRB003[~np.isnan(sensitivity_GRB003)],\n",
    "                    sensitivity_GRB004[~np.isnan(sensitivity_GRB004)]]\n",
    "\n",
    "sns.boxplot(ax=axs[0, 1], data=sensitivity_data, color=sns.color_palette('Reds')[3])\n",
    "sns.stripplot(ax=axs[0, 1], data=sensitivity_data, color='grey')\n",
    "axs[0, 1].set_title('Sensitivity')\n",
    "axs[0, 1].set_xticklabels(['GRB001', 'GRB002', 'GRB003', 'GRB004'])\n",
    "\n",
    "# Plot left lapse\n",
    "left_lapse_GRB001 = np.array(GRB001_params['left_lapse'])\n",
    "left_lapse_GRB002 = np.array(GRB002_params['left_lapse'])\n",
    "left_lapse_GRB003 = np.array(GRB003_params['left_lapse'])\n",
    "left_lapse_GRB004 = np.array(GRB004_params['left_lapse'])\n",
    "\n",
    "left_lapse_data = [left_lapse_GRB001[~np.isnan(left_lapse_GRB001)],\n",
    "                   left_lapse_GRB002[~np.isnan(left_lapse_GRB002)],\n",
    "                   left_lapse_GRB003[~np.isnan(left_lapse_GRB003)],\n",
    "                   left_lapse_GRB004[~np.isnan(left_lapse_GRB004)]]\n",
    "\n",
    "sns.boxplot(ax=axs[1, 0], data=left_lapse_data, color=sns.color_palette('Greens')[3])\n",
    "sns.stripplot(ax=axs[1, 0], data=left_lapse_data, color='grey')\n",
    "axs[1, 0].set_title('Left Lapse')\n",
    "axs[1, 0].set_xticklabels(['GRB001', 'GRB002', 'GRB003', 'GRB004'])\n",
    "\n",
    "# Plot right lapse\n",
    "right_lapse_GRB001 = np.array(GRB001_params['right_lapse'])\n",
    "right_lapse_GRB002 = np.array(GRB002_params['right_lapse'])\n",
    "right_lapse_GRB003 = np.array(GRB003_params['right_lapse'])\n",
    "right_lapse_GRB004 = np.array(GRB004_params['right_lapse'])\n",
    "\n",
    "right_lapse_data = [right_lapse_GRB001[~np.isnan(right_lapse_GRB001)],\n",
    "                    right_lapse_GRB002[~np.isnan(right_lapse_GRB002)],\n",
    "                    right_lapse_GRB003[~np.isnan(right_lapse_GRB003)],\n",
    "                    right_lapse_GRB004[~np.isnan(right_lapse_GRB004)]]\n",
    "\n",
    "sns.boxplot(ax=axs[1, 1], data=right_lapse_data, color=sns.color_palette('Purples')[3])\n",
    "sns.stripplot(ax=axs[1, 1], data=right_lapse_data, color='grey')\n",
    "axs[1, 1].set_title('Right Lapse')\n",
    "axs[1, 1].set_xticklabels(['GRB001', 'GRB002', 'GRB003', 'GRB004'])\n",
    "\n",
    "plt.show()"
   ]
  },
  {
   "cell_type": "markdown",
   "metadata": {},
   "source": [
    "### Violinplot"
   ]
  },
  {
   "cell_type": "code",
   "execution_count": null,
   "metadata": {},
   "outputs": [],
   "source": [
    "import seaborn as sns\n",
    "\n",
    "fig, axs = plt.subplots(2, 2, figsize=(10, 10))\n",
    "colors = sns.color_palette(\"hls\", 4)\n",
    "\n",
    "# Plot bias\n",
    "bias_GRB001 = np.array(GRB001_params['bias'])\n",
    "bias_GRB002 = np.array(GRB002_params['bias'])\n",
    "bias_GRB003 = np.array(GRB003_params['bias'])\n",
    "bias_GRB004 = np.array(GRB004_params['bias'])\n",
    "\n",
    "bias_data = [bias_GRB001[~np.isnan(bias_GRB001)],\n",
    "             bias_GRB002[~np.isnan(bias_GRB002)],\n",
    "             bias_GRB003[~np.isnan(bias_GRB003)],\n",
    "             bias_GRB004[~np.isnan(bias_GRB004)]]\n",
    "\n",
    "sns.violinplot(ax=axs[0, 0], data=bias_data, inner='point', palette=colors)\n",
    "axs[0, 0].set_title('Bias')\n",
    "axs[0, 0].set_xticklabels(['GRB001', 'GRB002', 'GRB003', 'GRB004'])\n",
    "\n",
    "# Plot sensitivity\n",
    "sensitivity_GRB001 = np.array(GRB001_params['sensitivity'])\n",
    "sensitivity_GRB002 = np.array(GRB002_params['sensitivity'])\n",
    "sensitivity_GRB003 = np.array(GRB003_params['sensitivity'])\n",
    "sensitivity_GRB004 = np.array(GRB004_params['sensitivity'])\n",
    "\n",
    "sensitivity_data = [sensitivity_GRB001[~np.isnan(sensitivity_GRB001)],\n",
    "                    sensitivity_GRB002[~np.isnan(sensitivity_GRB002)],\n",
    "                    sensitivity_GRB003[~np.isnan(sensitivity_GRB003)],\n",
    "                    sensitivity_GRB004[~np.isnan(sensitivity_GRB004)]]\n",
    "\n",
    "sns.violinplot(ax=axs[0, 1], data=sensitivity_data, inner='point', palette=colors)\n",
    "axs[0, 1].set_title('Sensitivity')\n",
    "axs[0, 1].set_xticklabels(['GRB001', 'GRB002', 'GRB003', 'GRB004'])\n",
    "\n",
    "# Plot left lapse\n",
    "left_lapse_GRB001 = np.array(GRB001_params['left_lapse'])\n",
    "left_lapse_GRB002 = np.array(GRB002_params['left_lapse'])\n",
    "left_lapse_GRB003 = np.array(GRB003_params['left_lapse'])\n",
    "left_lapse_GRB004 = np.array(GRB004_params['left_lapse'])\n",
    "\n",
    "left_lapse_data = [left_lapse_GRB001[~np.isnan(left_lapse_GRB001)],\n",
    "                   left_lapse_GRB002[~np.isnan(left_lapse_GRB002)],\n",
    "                   left_lapse_GRB003[~np.isnan(left_lapse_GRB003)],\n",
    "                   left_lapse_GRB004[~np.isnan(left_lapse_GRB004)]]\n",
    "\n",
    "sns.violinplot(ax=axs[1, 0], data=left_lapse_data, inner='point', palette=colors)\n",
    "axs[1, 0].set_title('Left Lapse')\n",
    "axs[1, 0].set_xticklabels(['GRB001', 'GRB002', 'GRB003', 'GRB004'])\n",
    "\n",
    "# Plot right lapse\n",
    "right_lapse_GRB001 = np.array(GRB001_params['right_lapse'])\n",
    "right_lapse_GRB002 = np.array(GRB002_params['right_lapse'])\n",
    "right_lapse_GRB003 = np.array(GRB003_params['right_lapse'])\n",
    "right_lapse_GRB004 = np.array(GRB004_params['right_lapse'])\n",
    "\n",
    "right_lapse_data = [right_lapse_GRB001[~np.isnan(right_lapse_GRB001)],\n",
    "                    right_lapse_GRB002[~np.isnan(right_lapse_GRB002)],\n",
    "                    right_lapse_GRB003[~np.isnan(right_lapse_GRB003)],\n",
    "                    right_lapse_GRB004[~np.isnan(right_lapse_GRB004)]]\n",
    "\n",
    "sns.violinplot(ax=axs[1, 1], data=right_lapse_data, inner='point', palette=colors)\n",
    "axs[1, 1].set_title('Right Lapse')\n",
    "axs[1, 1].set_xticklabels(['GRB001', 'GRB002', 'GRB003', 'GRB004'])\n",
    "\n",
    "plt.show()"
   ]
  },
  {
   "cell_type": "markdown",
   "metadata": {},
   "source": [
    "### Rainplots with PMF parameters"
   ]
  },
  {
   "cell_type": "code",
   "execution_count": null,
   "metadata": {},
   "outputs": [],
   "source": [
    "import seaborn as sns\n",
    "import ptitprince as pt\n",
    "\n",
    "fig, axs = plt.subplots(2, 2, figsize=(10, 10))\n",
    "colors = sns.color_palette(\"hls\", 4)\n",
    "\n",
    "# Plot bias\n",
    "bias_GRB001 = np.array(GRB001_params['bias'])\n",
    "bias_GRB002 = np.array(GRB002_params['bias'])\n",
    "bias_GRB003 = np.array(GRB003_params['bias'])\n",
    "bias_GRB004 = np.array(GRB004_params['bias'])\n",
    "\n",
    "bias_data = [bias_GRB001[~np.isnan(bias_GRB001)],\n",
    "             bias_GRB002[~np.isnan(bias_GRB002)],\n",
    "             bias_GRB003[~np.isnan(bias_GRB003)],\n",
    "             bias_GRB004[~np.isnan(bias_GRB004)]]\n",
    "\n",
    "pt.RainCloud(ax=axs[0, 0], data=bias_data,  palette=colors)\n",
    "\n",
    "axs[0, 0].set_title('Bias')\n",
    "axs[0, 0].set_xticklabels(['GRB001', 'GRB002', 'GRB003', 'GRB004'])\n",
    "\n",
    "# Plot sensitivity\n",
    "sensitivity_GRB001 = np.array(GRB001_params['sensitivity'])\n",
    "sensitivity_GRB002 = np.array(GRB002_params['sensitivity'])\n",
    "sensitivity_GRB003 = np.array(GRB003_params['sensitivity'])\n",
    "sensitivity_GRB004 = np.array(GRB004_params['sensitivity'])\n",
    "\n",
    "sensitivity_data = [sensitivity_GRB001[~np.isnan(sensitivity_GRB001)],\n",
    "                    sensitivity_GRB002[~np.isnan(sensitivity_GRB002)],\n",
    "                    sensitivity_GRB003[~np.isnan(sensitivity_GRB003)],\n",
    "                    sensitivity_GRB004[~np.isnan(sensitivity_GRB004)]]\n",
    "\n",
    "pt.RainCloud(ax=axs[0, 1], data=sensitivity_data, palette=colors)\n",
    "axs[0, 1].set_title('Sensitivity')\n",
    "axs[0, 1].set_xticklabels(['GRB001', 'GRB002', 'GRB003', 'GRB004'])\n",
    "\n",
    "# Plot left lapse\n",
    "left_lapse_GRB001 = np.array(GRB001_params['left_lapse'])\n",
    "left_lapse_GRB002 = np.array(GRB002_params['left_lapse'])\n",
    "left_lapse_GRB003 = np.array(GRB003_params['left_lapse'])\n",
    "left_lapse_GRB004 = np.array(GRB004_params['left_lapse'])\n",
    "\n",
    "left_lapse_data = [left_lapse_GRB001[~np.isnan(left_lapse_GRB001)],\n",
    "                   left_lapse_GRB002[~np.isnan(left_lapse_GRB002)],\n",
    "                   left_lapse_GRB003[~np.isnan(left_lapse_GRB003)],\n",
    "                   left_lapse_GRB004[~np.isnan(left_lapse_GRB004)]]\n",
    "\n",
    "pt.RainCloud(ax=axs[1, 0], data=left_lapse_data, palette=colors)\n",
    "axs[1, 0].set_title('Left Lapse')\n",
    "axs[1, 0].set_xticklabels(['GRB001', 'GRB002', 'GRB003', 'GRB004'])\n",
    "\n",
    "# Plot right lapse\n",
    "right_lapse_GRB001 = np.array(GRB001_params['right_lapse'])\n",
    "right_lapse_GRB002 = np.array(GRB002_params['right_lapse'])\n",
    "right_lapse_GRB003 = np.array(GRB003_params['right_lapse'])\n",
    "right_lapse_GRB004 = np.array(GRB004_params['right_lapse'])\n",
    "\n",
    "right_lapse_data = [right_lapse_GRB001[~np.isnan(right_lapse_GRB001)],\n",
    "                    right_lapse_GRB002[~np.isnan(right_lapse_GRB002)],\n",
    "                    right_lapse_GRB003[~np.isnan(right_lapse_GRB003)],\n",
    "                    right_lapse_GRB004[~np.isnan(right_lapse_GRB004)]]\n",
    "\n",
    "pt.RainCloud(ax=axs[1, 1], data=right_lapse_data, palette=colors)\n",
    "axs[1, 1].set_title('Right Lapse')\n",
    "axs[1, 1].set_xticklabels(['GRB001', 'GRB002', 'GRB003', 'GRB004'])\n",
    "\n",
    "plt.show()"
   ]
  },
  {
   "cell_type": "markdown",
   "metadata": {},
   "source": [
    "### Kdeplot colored by sex"
   ]
  },
  {
   "cell_type": "code",
   "execution_count": null,
   "metadata": {},
   "outputs": [],
   "source": [
    "fig, axs = plt.subplots(2, 2, figsize=(10, 10))\n",
    "colors= ['r', 'lightcoral', 'b', 'deepskyblue']\n",
    "labels = ['GRB001', 'GRB002', 'GRB003', 'GRB004']\n",
    "\n",
    "# Plot bias\n",
    "bias_GRB001 = np.array(GRB001_params['bias'])\n",
    "bias_GRB002 = np.array(GRB002_params['bias'])\n",
    "bias_GRB003 = np.array(GRB003_params['bias'])\n",
    "bias_GRB004 = np.array(GRB004_params['bias'])\n",
    "\n",
    "bias_data = [bias_GRB001[~np.isnan(bias_GRB001)],\n",
    "             bias_GRB002[~np.isnan(bias_GRB002)],\n",
    "             bias_GRB003[~np.isnan(bias_GRB003)],\n",
    "             bias_GRB004[~np.isnan(bias_GRB004)]]\n",
    "\n",
    "sns.kdeplot(ax=axs[0, 0], data=bias_data, palette=colors, fill=False)\n",
    "# axs[0, 0].set_ylim([0,1.7])\n",
    "axs[0, 0].set_title('Bias')\n",
    "axs[0, 0].legend(labels)\n",
    "\n",
    "# Plot sensitivity\n",
    "sensitivity_GRB001 = np.array(GRB001_params['sensitivity'])\n",
    "sensitivity_GRB002 = np.array(GRB002_params['sensitivity'])\n",
    "sensitivity_GRB003 = np.array(GRB003_params['sensitivity'])\n",
    "sensitivity_GRB004 = np.array(GRB004_params['sensitivity'])\n",
    "\n",
    "sensitivity_data = [sensitivity_GRB001[~np.isnan(sensitivity_GRB001)],\n",
    "                    sensitivity_GRB002[~np.isnan(sensitivity_GRB002)],\n",
    "                    sensitivity_GRB003[~np.isnan(sensitivity_GRB003)],\n",
    "                    sensitivity_GRB004[~np.isnan(sensitivity_GRB004)]]\n",
    "\n",
    "sns.kdeplot(ax=axs[0, 1], data=sensitivity_data, palette=colors, fill=False)\n",
    "# axs[0, 1].set_ylim([0,1.7])\n",
    "axs[0, 1].set_title('Sensitivity')\n",
    "axs[0, 1].legend(labels)\n",
    "\n",
    "# Plot left lapse\n",
    "left_lapse_GRB001 = np.array(GRB001_params['left_lapse'])\n",
    "left_lapse_GRB002 = np.array(GRB002_params['left_lapse'])\n",
    "left_lapse_GRB003 = np.array(GRB003_params['left_lapse'])\n",
    "left_lapse_GRB004 = np.array(GRB004_params['left_lapse'])\n",
    "\n",
    "left_lapse_data = [left_lapse_GRB001[~np.isnan(left_lapse_GRB001)],\n",
    "                   left_lapse_GRB002[~np.isnan(left_lapse_GRB002)],\n",
    "                   left_lapse_GRB003[~np.isnan(left_lapse_GRB003)],\n",
    "                   left_lapse_GRB004[~np.isnan(left_lapse_GRB004)]]\n",
    "\n",
    "sns.kdeplot(ax=axs[1, 0], data=left_lapse_data, palette=colors, fill=False)\n",
    "# axs[1, 0].set_ylim([0,1.7])\n",
    "axs[1, 0].set_title('Left Lapse')\n",
    "axs[1, 0].legend(labels)\n",
    "\n",
    "# Plot right lapse\n",
    "right_lapse_GRB001 = np.array(GRB001_params['right_lapse'])\n",
    "right_lapse_GRB002 = np.array(GRB002_params['right_lapse'])\n",
    "right_lapse_GRB003 = np.array(GRB003_params['right_lapse'])\n",
    "right_lapse_GRB004 = np.array(GRB004_params['right_lapse'])\n",
    "\n",
    "right_lapse_data = [right_lapse_GRB001[~np.isnan(right_lapse_GRB001)],\n",
    "                    right_lapse_GRB002[~np.isnan(right_lapse_GRB002)],\n",
    "                    right_lapse_GRB003[~np.isnan(right_lapse_GRB003)],\n",
    "                    right_lapse_GRB004[~np.isnan(right_lapse_GRB004)]]\n",
    "\n",
    "sns.kdeplot(ax=axs[1, 1], data=right_lapse_data, palette=colors, fill=False)\n",
    "# axs[1, 1].set_ylim([0,1.7])\n",
    "axs[1, 1].set_title('Right Lapse')\n",
    "axs[1, 1].legend(labels)\n",
    "\n",
    "plt.show()"
   ]
  }
 ],
 "metadata": {
  "kernelspec": {
   "display_name": "base",
   "language": "python",
   "name": "python3"
  },
  "language_info": {
   "codemirror_mode": {
    "name": "ipython",
    "version": 3
   },
   "file_extension": ".py",
   "mimetype": "text/x-python",
   "name": "python",
   "nbconvert_exporter": "python",
   "pygments_lexer": "ipython3",
   "version": "3.10.12"
  },
  "orig_nbformat": 4
 },
 "nbformat": 4,
 "nbformat_minor": 2
}
