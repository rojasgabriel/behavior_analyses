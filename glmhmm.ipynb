{
 "cells": [
  {
   "cell_type": "markdown",
   "metadata": {},
   "source": [
    "# GLM-HMM analyses"
   ]
  },
  {
   "cell_type": "markdown",
   "metadata": {},
   "source": [
    "### Import libraries"
   ]
  },
  {
   "cell_type": "code",
   "execution_count": 1,
   "metadata": {},
   "outputs": [],
   "source": [
    "import pandas as pd\n",
    "import matplotlib.pyplot as plt\n",
    "import numpy as np\n",
    "import ssm\n",
    "from utils import *\n",
    "\n",
    "#temp workaround since it gets removed from the path whenever the kernel is restarted\n",
    "import sys\n",
    "sys.path.insert(0, '/Users/gabriel/lib/')\n",
    "import chiCa\n",
    "\n",
    "%matplotlib widget"
   ]
  },
  {
   "cell_type": "markdown",
   "metadata": {},
   "source": [
    "### Define some functions"
   ]
  },
  {
   "cell_type": "code",
   "execution_count": 2,
   "metadata": {},
   "outputs": [],
   "source": [
    "def get_session_dates(file_names):\n",
    "    session_dates = []\n",
    "    for file in file_names:\n",
    "        split_path = file.split('/')\n",
    "        session_dates.append(split_path[5]) #with the churchland data folder structure, this corresponds to the date\n",
    "\n",
    "    return session_dates\n",
    "\n",
    "def get_session_averages(file_names, min_stims=5):\n",
    "    session_performance_averages = []\n",
    "    for file in file_names: \n",
    "        session_data = pd.read_hdf(file)\n",
    "        stim_rates = np.unique(np.array([len(timestamps) for timestamps in session_data.stimulus_event_timestamps]))\n",
    "        if len(stim_rates)>min_stims:\n",
    "            performance = np.array(session_data.outcome_record, dtype=float)\n",
    "            performance[performance == -1] = np.nan #setting early withdrawal trials as nans\n",
    "            performance[performance == 2] = np.nan #setting no response trials as nans\n",
    "            session_performance_averages.append(np.nanmean(performance))\n",
    "\n",
    "    return session_performance_averages\n",
    "\n",
    "def get_filtered_session_averages_and_dates(file_names, min_stims=5):\n",
    "    filtered_dates = []\n",
    "    filtered_session_averages = []\n",
    "    stims = []\n",
    "    for file in file_names:\n",
    "        session_data = pd.read_hdf(file)\n",
    "        stim_rates = np.array([len(timestamps) for timestamps in session_data.stimulus_event_timestamps])\n",
    "        unique_stims = list(np.unique(stim_rates))\n",
    "        valid_trials = np.logical_or(stim_rates == 4, stim_rates == 20)\n",
    "        if len(unique_stims)>min_stims:\n",
    "            #allocate performance\n",
    "            performance = np.array(session_data.outcome_record, dtype=float)\n",
    "            performance[performance == -1] = np.nan #setting early withdrawal trials as nans\n",
    "            performance[performance == 2] = np.nan #setting no response trials as nans\n",
    "            filtered_session_averages.append(np.nanmean(performance[valid_trials]))\n",
    "\n",
    "            #allocate date\n",
    "            split_path = file.split('/')\n",
    "            filtered_dates.append(split_path[5])\n",
    "\n",
    "            #allocate unique_stims\n",
    "            stims.append(unique_stims)\n",
    "\n",
    "    return filtered_dates, filtered_session_averages, stims\n",
    "\n",
    "def get_file_names(animal_name, data_type, file_extension, file_keyword=None):\n",
    "    '''Tool to select specified files of a data type over all sessions for a given animal.\n",
    "    This relies on the hierarchical Churchland lab data folder structure with:\n",
    "    animal_name -> session_datetime -> data_type\n",
    "    \n",
    "    Adapted from Lukas Oesch's `chipmunk_analysis_tools.py`.\n",
    "       \n",
    "    \n",
    "    Parameters\n",
    "    ----------\n",
    "    animal_name: str, the name of the animal whose sessions are to be selected.\n",
    "    data_type: str, the directory with the specific data type, for example chipumnk, caiman, etc.\n",
    "    file_extension: str, file extension specifier, for example *.mat\n",
    "    file_keyword: str, a pattern that should be detected inside the file name to\n",
    "                  distinguish the desired files from other files with the same extension.\n",
    "    \n",
    "    Returns\n",
    "    -------\n",
    "    file_names: list, list of file names selected\n",
    "    \n",
    "    Examples\n",
    "    --------\n",
    "    file_names = get_file_names('GRB001', 'chipmunk', '*.h5')\n",
    "    '''\n",
    "    import os\n",
    "    import glob\n",
    "    \n",
    "    home_dir = os.path.expanduser(\"~\")\n",
    "    session_dirs = glob.glob(f\"{home_dir}/data/{animal_name}/*/\")\n",
    "    \n",
    "    file_names = []\n",
    "    for session_dir in session_dirs:\n",
    "        data_type_dir = os.path.join(session_dir, data_type)\n",
    "        file_paths = glob.glob(os.path.join(data_type_dir, file_extension))\n",
    "        for file_path in file_paths:\n",
    "            if file_keyword is None or file_keyword in file_path:\n",
    "                file_names.append(file_path)\n",
    "    \n",
    "    file_names.sort()\n",
    "    \n",
    "    return file_names\n",
    "\n",
    "def count_stimulus_timestamps(row):\n",
    "    data = pd.read_hdf(row['path'])\n",
    "    stimulus_event_timestamps = data['stimulus_event_timestamps']\n",
    "    trial_lengths = [len(trial) for trial in stimulus_event_timestamps]\n",
    "    return trial_lengths\n",
    "\n",
    "def get_response_side(row):\n",
    "    data = pd.read_hdf(row['path'])\n",
    "    response_side = np.array(data['response_side'])\n",
    "    return response_side\n",
    "\n",
    "def get_filtered_performance_data(paths_all_animals, performance_threshold=0.8, min_stims=5):\n",
    "    group_performance_data = {}\n",
    "\n",
    "    for animalID, paths in paths_all_animals.items():\n",
    "        session_dates, session_averages, unique_stims = get_filtered_session_averages_and_dates(paths, min_stims=min_stims)\n",
    "        performance_by_day = pd.DataFrame(data={'date':session_dates,'performance average':session_averages, 'unique stims':unique_stims})\n",
    "        group_performance_data.update({animalID:performance_by_day})\n",
    "\n",
    "    filtered_group_performance_data = {}\n",
    "\n",
    "    for animal_id, performance_data in group_performance_data.items():\n",
    "        filtered_performance_data = performance_data[performance_data['performance average'] >= performance_threshold].reset_index(drop=True)\n",
    "        filtered_dates = filtered_performance_data['date'].tolist()\n",
    "        filtered_paths = []\n",
    "        for path in paths_all_animals[animal_id]:\n",
    "            if '/' in path:\n",
    "                split_path = path.split('/')\n",
    "                if split_path[5] in filtered_dates:\n",
    "                    filtered_paths.append(path)\n",
    "        filtered_group_performance_data[animal_id] = {'performance data': filtered_performance_data, 'filtered paths': filtered_paths}\n",
    "\n",
    "    filtered_data_list = []\n",
    "\n",
    "    for animal_id, data in filtered_group_performance_data.items():\n",
    "        filtered_data_list.append(data['performance data'])\n",
    "\n",
    "    concatenated_data = pd.concat(filtered_data_list, keys=filtered_group_performance_data.keys())\n",
    "    concatenated_data = concatenated_data.reset_index().rename(columns={'level_0': 'animal_id', 'level_1': 'row_index'})\n",
    "\n",
    "    filtered_paths = []\n",
    "    for animal_id, animal_data in filtered_group_performance_data.items():\n",
    "        for filtered_path in animal_data['filtered paths']:\n",
    "            filtered_paths.append([animal_id, filtered_path])\n",
    "\n",
    "    df_filtered_paths = pd.DataFrame(filtered_paths, columns=['animalID', 'path'])\n",
    "\n",
    "    df_filtered_paths['data'] = df_filtered_paths['path'].apply(pd.read_hdf)\n",
    "    df_filtered_paths['trials_per_session'] = df_filtered_paths['data'].apply(len)\n",
    "    df_filtered_paths['num_completed_trials'] = df_filtered_paths['data'].apply(lambda x: len(x[x['outcome_record'].isin([-1, 2]) == False]))\n",
    "    df_filtered_paths['stimuli_presented'] = df_filtered_paths.apply(count_stimulus_timestamps, axis=1)\n",
    "    df_filtered_paths['stimulus_intensity'] = df_filtered_paths['stimuli_presented'].apply(lambda x: [i - 12 for i in x])\n",
    "    df_filtered_paths['response_side'] = df_filtered_paths.apply(get_response_side, axis=1)\n",
    "    df_filtered_paths['choice'] = df_filtered_paths['response_side'].apply(lambda x: [val for val in x if not pd.isna(val)])\n",
    "    \n",
    "    all_data = df_filtered_paths\n",
    "\n",
    "    return all_data"
   ]
  },
  {
   "cell_type": "markdown",
   "metadata": {},
   "source": [
    "### Filter out bad sessions"
   ]
  },
  {
   "cell_type": "code",
   "execution_count": 3,
   "metadata": {},
   "outputs": [],
   "source": [
    "#Get performance averages for each session\n",
    "GRB001_paths = get_file_names('GRB001', 'chipmunk', '*.h5')\n",
    "GRB002_paths = get_file_names('GRB002', 'chipmunk', '*.h5')\n",
    "GRB003_paths = get_file_names('GRB003', 'chipmunk', '*.h5')\n",
    "GRB004_paths = get_file_names('GRB004', 'chipmunk', '*.h5')\n",
    "\n",
    "paths_all_animals = {'GRB001':GRB001_paths,\n",
    "                     'GRB002':GRB002_paths,\n",
    "                     'GRB003':GRB003_paths,\n",
    "                     'GRB004':GRB004_paths}\n",
    "\n",
    "all_data = get_filtered_performance_data(paths_all_animals=paths_all_animals, performance_threshold=0.7, min_stims=5)"
   ]
  },
  {
   "cell_type": "markdown",
   "metadata": {},
   "source": [
    "## MLE GLM-HMM"
   ]
  },
  {
   "cell_type": "code",
   "execution_count": 4,
   "metadata": {},
   "outputs": [],
   "source": [
    "# Set the parameters of the GLM-HMM\n",
    "num_states = 3        # number of discrete states\n",
    "obs_dim = 1           # number of observed dimensions\n",
    "num_categories = 2    # number of categories for output\n",
    "input_dim = 2         # input dimensions\n",
    "\n",
    "# Make a GLM-HMM\n",
    "glmhmm = ssm.HMM(num_states, obs_dim, input_dim, observations=\"input_driven_obs\", \n",
    "                   observation_kwargs=dict(C=num_categories), transitions=\"standard\")"
   ]
  },
  {
   "cell_type": "markdown",
   "metadata": {},
   "source": [
    "### Creating external input sequences"
   ]
  },
  {
   "cell_type": "code",
   "execution_count": 16,
   "metadata": {},
   "outputs": [],
   "source": [
    "num_sess = len(all_data) # number of example sessions\n",
    "num_trials_per_sess = all_data['num_completed_trials'].tolist() # number of trials in a session\n",
    "stim_vals = [4,6,8,10,12,14,16,18,20]\n",
    "\n",
    "inpts = []\n",
    "for i in range(num_sess):\n",
    "    inpts.append(np.ones((num_trials_per_sess[i], 2), dtype=float))\n",
    "\n",
    "stimuli = all_data['stimulus_intensity']\n",
    "for i in range(num_sess):\n",
    "    for j in range(num_trials_per_sess[i]):\n",
    "        inpts[i][j][0] = stimuli[i][j]\n",
    "\n",
    "choice = [np.array(lst).reshape(-1, 1).astype(int) for lst in  all_data['choice']]"
   ]
  },
  {
   "cell_type": "markdown",
   "metadata": {},
   "source": [
    "### Fit glmhmm"
   ]
  },
  {
   "cell_type": "markdown",
   "metadata": {},
   "source": [
    "N_iters = 500 # maximum number of EM iterations. Fitting with stop earlier if increase in LL is below tolerance specified by tolerance parameter\n",
    "fit_ll = glmhmm.fit(choice, inputs=inpts, method=\"em\", num_iters=N_iters, tolerance=10**-4)"
   ]
  },
  {
   "cell_type": "markdown",
   "metadata": {},
   "source": [
    "# Plot the log probabilities of the true and fit models. Fit model final LL should be greater \n",
    "# than or equal to true LL.\n",
    "fig = plt.figure(figsize=(4, 3), dpi=80, facecolor='w', edgecolor='k')\n",
    "plt.plot(fit_ll, label=\"EM\")\n",
    "# plt.plot([0, len(fit_ll)], true_ll * np.ones(2), ':k', label=\"True\")\n",
    "plt.legend(loc=\"lower right\")\n",
    "plt.xlabel(\"EM Iteration\")\n",
    "plt.xlim(0, len(fit_ll))\n",
    "plt.ylabel(\"Log Probability\")\n",
    "plt.show()"
   ]
  },
  {
   "cell_type": "markdown",
   "metadata": {},
   "source": [
    "## Implementing cross-validation"
   ]
  },
  {
   "cell_type": "code",
   "execution_count": 6,
   "metadata": {},
   "outputs": [
    {
     "data": {
      "application/vnd.jupyter.widget-view+json": {
       "model_id": "8532f3c5f7c24573a158311a2732599a",
       "version_major": 2,
       "version_minor": 0
      },
      "text/plain": [
       "  0%|          | 0/200 [00:00<?, ?it/s]"
      ]
     },
     "metadata": {},
     "output_type": "display_data"
    },
    {
     "data": {
      "application/vnd.jupyter.widget-view+json": {
       "model_id": "3b2a841412aa4dfcb99bee643a8095e3",
       "version_major": 2,
       "version_minor": 0
      },
      "text/plain": [
       "  0%|          | 0/200 [00:00<?, ?it/s]"
      ]
     },
     "metadata": {},
     "output_type": "display_data"
    },
    {
     "data": {
      "application/vnd.jupyter.widget-view+json": {
       "model_id": "5690f7c628dc4988bf7a4b4ef80da158",
       "version_major": 2,
       "version_minor": 0
      },
      "text/plain": [
       "  0%|          | 0/200 [00:00<?, ?it/s]"
      ]
     },
     "metadata": {},
     "output_type": "display_data"
    },
    {
     "data": {
      "application/vnd.jupyter.widget-view+json": {
       "model_id": "4e17df9f967c403cba377255530ce8bc",
       "version_major": 2,
       "version_minor": 0
      },
      "text/plain": [
       "  0%|          | 0/200 [00:00<?, ?it/s]"
      ]
     },
     "metadata": {},
     "output_type": "display_data"
    },
    {
     "data": {
      "application/vnd.jupyter.widget-view+json": {
       "model_id": "c2adde36e74748aea4d8910feb4617fa",
       "version_major": 2,
       "version_minor": 0
      },
      "text/plain": [
       "  0%|          | 0/200 [00:00<?, ?it/s]"
      ]
     },
     "metadata": {},
     "output_type": "display_data"
    },
    {
     "data": {
      "application/vnd.jupyter.widget-view+json": {
       "model_id": "997cc3be9bc446efac938fe6e2f9ffba",
       "version_major": 2,
       "version_minor": 0
      },
      "text/plain": [
       "  0%|          | 0/200 [00:00<?, ?it/s]"
      ]
     },
     "metadata": {},
     "output_type": "display_data"
    },
    {
     "data": {
      "application/vnd.jupyter.widget-view+json": {
       "model_id": "7f7b8f3248db41acbe86e6e31cf820f6",
       "version_major": 2,
       "version_minor": 0
      },
      "text/plain": [
       "  0%|          | 0/200 [00:00<?, ?it/s]"
      ]
     },
     "metadata": {},
     "output_type": "display_data"
    },
    {
     "data": {
      "application/vnd.jupyter.widget-view+json": {
       "model_id": "f0ea9eb5a0b84ad8b20e22769e055000",
       "version_major": 2,
       "version_minor": 0
      },
      "text/plain": [
       "  0%|          | 0/200 [00:00<?, ?it/s]"
      ]
     },
     "metadata": {},
     "output_type": "display_data"
    },
    {
     "data": {
      "application/vnd.jupyter.widget-view+json": {
       "model_id": "40a1865d88674d29881e69bb1f369d85",
       "version_major": 2,
       "version_minor": 0
      },
      "text/plain": [
       "  0%|          | 0/200 [00:00<?, ?it/s]"
      ]
     },
     "metadata": {},
     "output_type": "display_data"
    },
    {
     "data": {
      "application/vnd.jupyter.widget-view+json": {
       "model_id": "db782386cf614ee290f29c2a075a1e37",
       "version_major": 2,
       "version_minor": 0
      },
      "text/plain": [
       "  0%|          | 0/200 [00:00<?, ?it/s]"
      ]
     },
     "metadata": {},
     "output_type": "display_data"
    },
    {
     "data": {
      "application/vnd.jupyter.widget-view+json": {
       "model_id": "709981c472aa4744ba117ab130aa7e9a",
       "version_major": 2,
       "version_minor": 0
      },
      "image/png": "[encoded data removed]",
      "text/html": [
       "\n",
       "            <div style=\"display: inline-block;\">\n",
       "                <div class=\"jupyter-widgets widget-label\" style=\"text-align: center;\">\n",
       "                    Figure\n",
       "                </div>\n",
       "                <img src='data:image/png;base64,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' width=640.0/>\n",
       "            </div>\n",
       "        "
      ],
      "text/plain": [
       "Canvas(toolbar=Toolbar(toolitems=[('Home', 'Reset original view', 'home', 'home'), ('Back', 'Back to previous …"
      ]
     },
     "metadata": {},
     "output_type": "display_data"
    }
   ],
   "source": [
    "from sklearn.model_selection import KFold\n",
    "\n",
    "N_iters = 200\n",
    "n_splits = 10\n",
    "kf = KFold(n_splits=n_splits)\n",
    "\n",
    "log_likelihoods = []\n",
    "weights = []\n",
    "trans_mats = []\n",
    "\n",
    "train_choice = []\n",
    "test_choice = []\n",
    "train_inpts = []\n",
    "test_inpts = []\n",
    "\n",
    "for train_index, test_index in kf.split(choice):\n",
    "    for i, j in zip(train_index, test_index):\n",
    "        train_choice.append(choice[i])\n",
    "        test_choice.append(choice[j])\n",
    "\n",
    "        train_inpts.append(inpts[i])\n",
    "        test_inpts.append(inpts[j])\n",
    "\n",
    "    log_likelihood = glmhmm.fit(train_choice, inputs=train_inpts, method=\"em\", num_iters=N_iters, tolerance=10**-4)\n",
    "    log_likelihoods.append(log_likelihood)\n",
    "\n",
    "    weights.append(glmhmm.observations.params)\n",
    "    trans_mats.append(np.exp(glmhmm.transitions.log_Ps))\n",
    "\n",
    "\n",
    "# Normalize the log-likelihoods in each fold\n",
    "normalized_log_likelihoods = []\n",
    "for i in range(len(log_likelihoods)):\n",
    "    fold = log_likelihoods[i]\n",
    "    mean = np.mean(fold)\n",
    "    std = np.std(fold)\n",
    "    normalized_fold = (fold - mean) / std\n",
    "    normalized_log_likelihoods.append(normalized_fold)\n",
    "\n",
    "# Plot the normalized log-likelihoods\n",
    "fig = plt.figure(figsize=(8, 4), dpi=80, facecolor='w', edgecolor='k')\n",
    "plt.subplot(1,3,1)\n",
    "for i in range(len(normalized_log_likelihoods)):\n",
    "    plt.plot(normalized_log_likelihoods[i], label=f'Fold {i+1}')\n",
    "plt.xlabel('Iteration')\n",
    "plt.ylabel('Normalized log-likelihood')\n",
    "plt.legend()\n",
    "plt.tight_layout()\n",
    "plt.autoscale(enable=True, axis='both', tight=True)  # adjust x and y limits automatically\n",
    "\n",
    "#Plot the recovered weights across folds\n",
    "plt.subplot(1,3,2)\n",
    "cols = ['#ff7f00', '#4daf4a', '#377eb8']\n",
    "# mean_weights = np.zeros((num_states, input_dim))\n",
    "for k in range(num_states):\n",
    "    for i in range(len(weights)):\n",
    "        fold = weights[i]\n",
    "        plt.plot(range(input_dim), fold[k][0], color=cols[k],\n",
    "                 lw=1.5, alpha=0.3, label=f'Fold {i+1}', linestyle='--')\n",
    "        # mean_weights[k] += fold[k][0]\n",
    "    # mean_weights[k] /= len(weights)\n",
    "    # plt.plot(range(input_dim), mean_weights[k], color=cols[k],\n",
    "    #          lw=3, label=f'State {k+1}', linestyle='--')\n",
    "plt.yticks(fontsize=10)\n",
    "plt.ylabel(\"GLM weight\", fontsize=15)\n",
    "plt.xlabel(\"covariate\", fontsize=15)\n",
    "plt.xticks([0, 1], ['stimulus', 'bias'], fontsize=12, rotation=45)\n",
    "plt.axhline(y=0, color=\"k\", alpha=0.5, ls=\"--\")\n",
    "plt.title(\"Weight recovery\", fontsize=15)\n",
    "plt.tight_layout()\n",
    "plt.show()"
   ]
  },
  {
   "cell_type": "code",
   "execution_count": 14,
   "metadata": {},
   "outputs": [
    {
     "name": "stdout",
     "output_type": "stream",
     "text": [
      "10\n",
      "(3, 1, 2)\n",
      "[[[-0.44225708 -4.23310759]]\n",
      "\n",
      " [[ 0.2098172  -1.83796215]]\n",
      "\n",
      " [[ 0.01840217  1.8221151 ]]]\n",
      "[[-0.44225708 -4.23310759]]\n",
      "[[ 0.2098172  -1.83796215]]\n",
      "[[0.01840217 1.8221151 ]]\n"
     ]
    }
   ],
   "source": [
    "print(len(weights))\n",
    "print(weights[0].shape)\n",
    "print(weights[0])\n",
    "print(weights[0][0])\n",
    "print(weights[0][1])\n",
    "print(weights[0][2])"
   ]
  },
  {
   "cell_type": "markdown",
   "metadata": {},
   "source": [
    "### Recover weights"
   ]
  },
  {
   "cell_type": "code",
   "execution_count": null,
   "metadata": {},
   "outputs": [],
   "source": [
    "fig = plt.figure(figsize=(4, 3), dpi=80, facecolor='w', edgecolor='k')\n",
    "cols = ['#ff7f00', '#4daf4a', '#377eb8']\n",
    "recovered_weights = glmhmm.observations.params\n",
    "for k in range(num_states):\n",
    "    if k ==0:\n",
    "        plt.plot(range(input_dim), recovered_weights[k][0], color=cols[k],\n",
    "                     lw=1.5,  label = \"recovered\", linestyle = '--')\n",
    "    else:\n",
    "        plt.plot(range(input_dim), recovered_weights[k][0], color=cols[k],\n",
    "                     lw=1.5,  label = '', linestyle = '--')\n",
    "plt.yticks(fontsize=10)\n",
    "plt.ylabel(\"GLM weight\", fontsize=15)\n",
    "plt.xlabel(\"covariate\", fontsize=15)\n",
    "plt.xticks([0, 1], ['stimulus', 'bias'], fontsize=12, rotation=45)\n",
    "plt.axhline(y=0, color=\"k\", alpha=0.5, ls=\"--\")\n",
    "plt.legend()\n",
    "plt.title(\"Weight recovery\", fontsize=15)"
   ]
  },
  {
   "cell_type": "markdown",
   "metadata": {},
   "source": [
    "### Plot transition matrix"
   ]
  },
  {
   "cell_type": "code",
   "execution_count": null,
   "metadata": {},
   "outputs": [],
   "source": [
    "fig = plt.figure(figsize=(5, 2.5), dpi=80, facecolor='w', edgecolor='k')\n",
    "\n",
    "\n",
    "recovered_trans_mat = np.exp(glmhmm.transitions.log_Ps)\n",
    "plt.imshow(recovered_trans_mat, vmin=-0.8, vmax=1, cmap='bone')\n",
    "for i in range(recovered_trans_mat.shape[0]):\n",
    "    for j in range(recovered_trans_mat.shape[1]):\n",
    "        text = plt.text(j, i, str(np.around(recovered_trans_mat[i, j], decimals=2)), ha=\"center\", va=\"center\",\n",
    "                        color=\"k\", fontsize=12)\n",
    "plt.xlim(-0.5, num_states - 0.5)\n",
    "plt.xticks(range(0, num_states), ('1', '2', '3'), fontsize=10)\n",
    "plt.yticks(range(0, num_states), ('1', '2', '3'), fontsize=10)\n",
    "plt.ylim(num_states - 0.5, -0.5)\n",
    "plt.title(\"recovered\", fontsize = 15)\n",
    "plt.subplots_adjust(0, 0, 1, 1)\n"
   ]
  },
  {
   "cell_type": "markdown",
   "metadata": {},
   "source": [
    "### Get posterior probabilities"
   ]
  },
  {
   "cell_type": "code",
   "execution_count": null,
   "metadata": {},
   "outputs": [],
   "source": [
    "# Get expected states:\n",
    "posterior_probs = [glmhmm.expected_states(data=data, input=inpt)[0]\n",
    "                for data, inpt\n",
    "                in zip(choice, inpts)]"
   ]
  },
  {
   "cell_type": "code",
   "execution_count": null,
   "metadata": {},
   "outputs": [],
   "source": [
    "fig = plt.figure(figsize=(5, 2.5), dpi=80, facecolor='w', edgecolor='k')\n",
    "sess_id = 0 #session id; can choose any index between 0 and num_sess-1\n",
    "for k in range(num_states):\n",
    "    plt.plot(posterior_probs[sess_id][:, k], label=\"State \" + str(k + 1), lw=2,\n",
    "             color=cols[k])\n",
    "plt.ylim((-0.01, 1.01))\n",
    "plt.yticks([0, 0.5, 1], fontsize = 10)\n",
    "plt.xlabel(\"trial #\", fontsize = 15)\n",
    "plt.ylabel(\"p(state)\", fontsize = 15)"
   ]
  },
  {
   "cell_type": "markdown",
   "metadata": {},
   "source": [
    "### Get state occupancies"
   ]
  },
  {
   "cell_type": "code",
   "execution_count": null,
   "metadata": {},
   "outputs": [],
   "source": [
    "# concatenate posterior probabilities across sessions\n",
    "posterior_probs_concat = np.concatenate(posterior_probs)\n",
    "# get state with maximum posterior probability at particular trial:\n",
    "state_max_posterior = np.argmax(posterior_probs_concat, axis = 1)\n",
    "# now obtain state fractional occupancies:\n",
    "_, state_occupancies = np.unique(state_max_posterior, return_counts=True)\n",
    "state_occupancies = state_occupancies/np.sum(state_occupancies)"
   ]
  },
  {
   "cell_type": "code",
   "execution_count": null,
   "metadata": {},
   "outputs": [],
   "source": [
    "fig = plt.figure(figsize=(5, 2.5), dpi=80, facecolor='w', edgecolor='k')\n",
    "for z, occ in enumerate(state_occupancies):\n",
    "    plt.bar(z, occ, width = 0.8, color = cols[z])\n",
    "plt.ylim((0, 1))\n",
    "plt.xticks([0, 1, 2], ['1', '2', '3'], fontsize = 10)\n",
    "plt.yticks([0, 0.5, 1], ['0', '0.5', '1'], fontsize=10)\n",
    "plt.xlabel('state', fontsize = 15)\n",
    "plt.ylabel('frac. occupancy', fontsize=15)"
   ]
  },
  {
   "cell_type": "markdown",
   "metadata": {},
   "source": [
    "## MAP GLM-HMM"
   ]
  },
  {
   "cell_type": "markdown",
   "metadata": {},
   "source": [
    "# Instantiate GLM-HMM and set prior hyperparameters\n",
    "prior_sigma = 2\n",
    "prior_alpha = 2\n",
    "map_glmhmm = ssm.HMM(num_states, obs_dim, input_dim, observations=\"input_driven_obs\", \n",
    "             observation_kwargs=dict(C=num_categories,prior_sigma=prior_sigma),\n",
    "             transitions=\"sticky\", transition_kwargs=dict(alpha=prior_alpha,kappa=0))"
   ]
  },
  {
   "cell_type": "markdown",
   "metadata": {},
   "source": [
    "# Fit GLM-HMM with MAP estimation:\n",
    "_ = map_glmhmm.fit(choice, inputs=inpts, method=\"em\", num_iters=N_iters, tolerance=10**-4)"
   ]
  },
  {
   "cell_type": "markdown",
   "metadata": {},
   "source": [
    "# true_likelihood = true_glmhmm.log_likelihood(true_choices, inputs=inpts)\n",
    "mle_final_ll = glmhmm.log_likelihood(choice, inputs=inpts) \n",
    "map_final_ll = map_glmhmm.log_likelihood(choice, inputs=inpts) "
   ]
  },
  {
   "cell_type": "markdown",
   "metadata": {},
   "source": [
    "# Plot these values\n",
    "fig = plt.figure(figsize=(2, 2.5), dpi=80, facecolor='w', edgecolor='k')\n",
    "loglikelihood_vals = [mle_final_ll, map_final_ll]\n",
    "colors = ['Red', 'Navy']\n",
    "for z, occ in enumerate(loglikelihood_vals):\n",
    "    plt.bar(z, occ, width = 0.8, color = colors[z])\n",
    "plt.ylim((mle_final_ll-10, mle_final_ll+10))\n",
    "plt.xticks([0, 1], ['mle', 'map'], fontsize = 10)\n",
    "plt.xlabel('model', fontsize = 15)\n",
    "plt.ylabel('loglikelihood', fontsize=15)"
   ]
  },
  {
   "cell_type": "markdown",
   "metadata": {},
   "source": [
    "## Cross-validation"
   ]
  },
  {
   "cell_type": "code",
   "execution_count": null,
   "metadata": {},
   "outputs": [],
   "source": [
    "# Create additional input sequences to be used as held-out test data\n",
    "# num_test_sess = 10\n",
    "# test_inpts = np.ones((num_test_sess, num_trials_per_sess, input_dim)) \n",
    "# test_inpts[:,:,0] = np.random.choice(stim_vals, (num_test_sess, num_trials_per_sess)) \n",
    "# test_inpts = list(test_inpts)\n",
    "\n",
    "#######\n",
    "\n",
    "# num_sess = len(all_data) # number of example sessions\n",
    "# num_trials_per_sess = all_data['num_completed_trials'].tolist() # number of trials in a session\n",
    "# stim_vals = [4,6,8,10,12,14,16,18,20]\n",
    "\n",
    "# inpts = []\n",
    "# for i in range(num_sess):\n",
    "#     inpts.append(np.ones((num_trials_per_sess[i], 2), dtype=float))\n",
    "\n",
    "# stimuli = all_data['stimuli_presented']\n",
    "# for i in range(num_sess):\n",
    "#     for j in range(num_trials_per_sess[i]):\n",
    "#         inpts[i][j][0] = stimuli[i][j]\n",
    "\n",
    "# choice = [np.array(lst).reshape(-1, 1).astype(int) for lst in  all_data['choice']]\n",
    "\n",
    "#######\n",
    "\n",
    "num_test_sess = 10 # number of example sessions\n",
    "num_trials_per_test_sess = all_data['num_completed_trials'][:num_test_sess].tolist() # number of trials in a session\n",
    "stim_vals = [4,6,8,10,12,14,16,18,20]\n",
    "\n",
    "test_inpts = []\n",
    "for i in range(num_test_sess):\n",
    "    test_inpts.append(np.ones((num_trials_per_test_sess[i], 2), dtype=float))\n",
    "\n",
    "test_stimuli = all_data['stimuli_presented'][:num_test_sess]\n",
    "for i in range(num_test_sess):\n",
    "    for j in range(num_trials_per_test_sess[i]):\n",
    "        test_inpts[i][j][0] = stimuli[i][j]\n",
    "\n",
    "test_choice = [np.array(lst).reshape(-1, 1).astype(int) for lst in all_data['choice'][:num_test_sess]]"
   ]
  },
  {
   "cell_type": "code",
   "execution_count": null,
   "metadata": {},
   "outputs": [],
   "source": [
    "# Compare likelihood of test_choices for model fit with MLE and MAP:\n",
    "mle_test_ll = glmhmm.log_likelihood(test_choice, inputs=test_inpts) \n",
    "map_test_ll = map_glmhmm.log_likelihood(test_choice, inputs=test_inpts) "
   ]
  },
  {
   "cell_type": "code",
   "execution_count": null,
   "metadata": {},
   "outputs": [],
   "source": [
    "fig = plt.figure(figsize=(2, 2.5), dpi=80, facecolor='w', edgecolor='k')\n",
    "loglikelihood_vals = [mle_test_ll, map_test_ll]\n",
    "colors = ['Navy', 'Purple']\n",
    "for z, occ in enumerate(loglikelihood_vals):\n",
    "    plt.bar(z, occ, width = 0.8, color = colors[z])\n",
    "plt.ylim((mle_test_ll-2, mle_test_ll+5))\n",
    "plt.xticks([0, 1], ['mle', 'map'], fontsize = 10)\n",
    "plt.xlabel('model', fontsize = 15)\n",
    "plt.ylabel('loglikelihood', fontsize=15)"
   ]
  },
  {
   "cell_type": "code",
   "execution_count": null,
   "metadata": {},
   "outputs": [],
   "source": [
    "fig = plt.figure(figsize=(6, 3), dpi=80, facecolor='w', edgecolor='k')\n",
    "cols = ['#ff7f00', '#4daf4a', '#377eb8']\n",
    "plt.subplot(1,2,1)\n",
    "recovered_weights = glmhmm.observations.params\n",
    "for k in range(num_states):\n",
    "    if k ==0: # show labels only for first state\n",
    "        plt.plot(range(input_dim), recovered_weights[k][0], color=cols[k],\n",
    "                     lw=1.5,  label = 'recovered', linestyle='--')   \n",
    "    else:\n",
    "        plt.plot(range(input_dim), recovered_weights[k][0], color=cols[k],\n",
    "                     lw=1.5,  label = '', linestyle='--')\n",
    "plt.yticks(fontsize=10)\n",
    "plt.ylabel(\"GLM weight\", fontsize=15)\n",
    "plt.xlabel(\"covariate\", fontsize=15)\n",
    "plt.xticks([0, 1], ['stimulus', 'bias'], fontsize=12, rotation=45)\n",
    "plt.axhline(y=0, color=\"k\", alpha=0.5, ls=\"--\")\n",
    "plt.title(\"MLE\", fontsize = 15)\n",
    "plt.legend()\n",
    "\n",
    "plt.subplot(1,2,2)\n",
    "recovered_weights = map_glmhmm.observations.params\n",
    "for k in range(num_states):\n",
    "    plt.plot(range(input_dim), recovered_weights[k][0], color=cols[k],\n",
    "                 lw=1.5,  label = '', linestyle='--')\n",
    "plt.yticks(fontsize=10)\n",
    "plt.xticks([0, 1], ['', ''], fontsize=12, rotation=45)\n",
    "plt.axhline(y=0, color=\"k\", alpha=0.5, ls=\"--\")\n",
    "plt.title(\"MAP\", fontsize = 15)"
   ]
  },
  {
   "cell_type": "code",
   "execution_count": null,
   "metadata": {},
   "outputs": [],
   "source": [
    "fig = plt.figure(figsize=(7, 2.5), dpi=80, facecolor='w', edgecolor='k')\n",
    "plt.subplot(1, 3, 1)\n",
    "recovered_trans_mat = np.exp(glmhmm.transitions.log_Ps)\n",
    "plt.imshow(recovered_trans_mat, vmin=-0.8, vmax=1, cmap='bone')\n",
    "for i in range(recovered_trans_mat.shape[0]):\n",
    "    for j in range(recovered_trans_mat.shape[1]):\n",
    "        text = plt.text(j, i, str(np.around(recovered_trans_mat[i, j], decimals=2)), ha=\"center\", va=\"center\",\n",
    "                        color=\"k\", fontsize=12)\n",
    "plt.xlim(-0.5, num_states - 0.5)\n",
    "plt.xticks(range(0, num_states), ('1', '2', '3'), fontsize=10)\n",
    "plt.yticks(range(0, num_states), ('1', '2', '3'), fontsize=10)\n",
    "plt.ylim(num_states - 0.5, -0.5)\n",
    "plt.title(\"recovered - MLE\", fontsize = 15)\n",
    "plt.subplots_adjust(0, 0, 1, 1)\n",
    "\n",
    "\n",
    "plt.subplot(1, 3, 2)\n",
    "recovered_trans_mat = np.exp(map_glmhmm.transitions.log_Ps)\n",
    "plt.imshow(recovered_trans_mat, vmin=-0.8, vmax=1, cmap='bone')\n",
    "for i in range(recovered_trans_mat.shape[0]):\n",
    "    for j in range(recovered_trans_mat.shape[1]):\n",
    "        text = plt.text(j, i, str(np.around(recovered_trans_mat[i, j], decimals=2)), ha=\"center\", va=\"center\",\n",
    "                        color=\"k\", fontsize=12)\n",
    "plt.xlim(-0.5, num_states - 0.5)\n",
    "plt.xticks(range(0, num_states), ('1', '2', '3'), fontsize=10)\n",
    "plt.yticks(range(0, num_states), ('1', '2', '3'), fontsize=10)\n",
    "plt.ylim(num_states - 0.5, -0.5)\n",
    "plt.title(\"recovered - MAP\", fontsize = 15)\n",
    "plt.subplots_adjust(0, 0, 1, 1)"
   ]
  },
  {
   "cell_type": "markdown",
   "metadata": {},
   "source": [
    "## Exploring the HMM object"
   ]
  },
  {
   "cell_type": "code",
   "execution_count": null,
   "metadata": {},
   "outputs": [],
   "source": [
    "dir(glmhmm)"
   ]
  },
  {
   "cell_type": "code",
   "execution_count": null,
   "metadata": {},
   "outputs": [],
   "source": [
    "# # Set the parameters of the GLM-HMM\n",
    "# num_states = 3        # number of discrete states\n",
    "# obs_dim = 1           # number of observed dimensions\n",
    "# num_categories = 2    # number of categories for output\n",
    "# input_dim = 2         # input dimensions\n",
    "\n",
    "# # Make a GLM-HMM\n",
    "# glmhmm = ssm.HMM(num_states, obs_dim, input_dim, observations=\"input_driven_obs\", \n",
    "#                    observation_kwargs=dict(C=num_categories), transitions=\"standard\")\n",
    "\n",
    "####\n",
    "\n",
    "# D is the number of observed dimensions\n",
    "# K is the number of states\n",
    "# M is the number of input dimensions\n",
    "# C is the number of output categories\n",
    "glmhmm.observations??"
   ]
  }
 ],
 "metadata": {
  "kernelspec": {
   "display_name": "base",
   "language": "python",
   "name": "python3"
  },
  "language_info": {
   "codemirror_mode": {
    "name": "ipython",
    "version": 3
   },
   "file_extension": ".py",
   "mimetype": "text/x-python",
   "name": "python",
   "nbconvert_exporter": "python",
   "pygments_lexer": "ipython3",
   "version": "3.10.12"
  },
  "orig_nbformat": 4
 },
 "nbformat": 4,
 "nbformat_minor": 2
}
